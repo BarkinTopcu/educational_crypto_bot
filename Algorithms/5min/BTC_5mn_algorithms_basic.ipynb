{
  "nbformat": 4,
  "nbformat_minor": 0,
  "metadata": {
    "colab": {
      "provenance": [],
      "authorship_tag": "ABX9TyMgMQ84ym5SyPUSQEphU2nl"
    },
    "kernelspec": {
      "name": "python3",
      "display_name": "Python 3"
    },
    "language_info": {
      "name": "python"
    }
  },
  "cells": [
    {
      "cell_type": "markdown",
      "source": [
        "# BASIC BUY SELL ALGORITHMS"
      ],
      "metadata": {
        "id": "B3SMhlB0bDEL"
      }
    },
    {
      "cell_type": "markdown",
      "source": [
        "## 🚨 Disclaimer\n",
        "\n",
        "> **⚠️ This project is strictly for educational use only.**\n",
        ">\n",
        "> - It is not intended for live or real-money trading.\n",
        "> - It does not provide financial or investment advice.\n",
        "> - The developer of this repository is not responsible for any financial loss resulting from the use or misuse of this code.\n",
        ">\n",
        "> Use this bot only in test environments or simulations. **Do not connect to real wallets or trading accounts.**\n",
        ">\n",
        "> This application does not provide investment advice. All data, models, functions and forecasts are for educational and analytical purposes only. Do not use this information to make investment decisions. All investment decisions are the responsibility of the user.\n",
        ">\n",
        "> **WARNING:** This application and all included analyses, data, and forecasts are strictly for educational and analytical purposes only. **Do not use for investment purposes under any circumstances.** The owner of the code assumes no responsibility for any financial, investment, or trading decisions made based on the information provided. **All responsibility lies with the user.**\n",
        "\n",
        "> **ATTENTION:** In Turkey, investment transactions must only be carried out through intermediary institutions and financial organizations that are authorized and licensed by the Capital Markets Board of Turkey (CMB). This application or code should not be used for investment transactions and must not be considered for investment purposes."
      ],
      "metadata": {
        "id": "4s-PL7XYbBDL"
      }
    },
    {
      "cell_type": "markdown",
      "source": [
        "### ⚠️ Yasal Uyarı (Türkçe)\n",
        "\n",
        "❗️Bu proje **yatırım tavsiyesi değildir**.  \n",
        "📌 Bu proje sadece **eğitim** amaçlı geliştirilmiştir.\n",
        "\n",
        "- Herhangi bir finansal ya da yatırım tavsiyesi sunmaz.  \n",
        "- Bu kodun kullanımından doğabilecek finansal kayıplardan geliştirici sorumlu değildir.  \n",
        "- Bu bot sadece test ortamlarında veya simülasyonlarda kullanılmalıdır. Gerçek cüzdanlar veya ticaret hesapları ile **bağlantı kurmayınız**.\n",
        "> Bu uygulama yatırım tavsiyesi içermez. Sunulan veriler, modeller, fonksiyonlar ve tahminler yalnızca eğitim ve analiz amaçlıdır. Yatırım kararlarınızı bu verilerle almanız önerilmez. Her türlü yatırım kararı kullanıcıya aittir.\n",
        ">\n",
        "> **UYARI:** Bu uygulama ve içerdiği tüm analizler, veriler ve tahminler yalnızca eğitim ve analiz amaçlıdır. **Kesinlikle yatırım amaçlı kullanmayınız.** Uygulamada yer alan bilgilerle yapılacak herhangi bir yatırım, alım-satım veya finansal işlemden doğacak her türlü sorumluluk kullanıcıya aittir. **Kodun sahibi hiçbir şekilde sorumluluk kabul etmez.**\n",
        "\n",
        "> **DİKKAT:** Türkiye’de yatırım işlemleri yalnızca Sermaye Piyasası Kurulu (SPK) tarafından yetkilendirilmiş ve lisanslanmış aracı kurumlar ve finansal kuruluşlar aracılığıyla yapılmalıdır. Bu uygulama veya kod, herhangi bir yatırım işlemi için kullanılmamalıdır ve yatırım amacıyla değerlendirilmemelidir."
      ],
      "metadata": {
        "id": "Netyrki7a4hr"
      }
    },
    {
      "cell_type": "code",
      "execution_count": null,
      "metadata": {
        "id": "kEVPeeH_LSdS"
      },
      "outputs": [],
      "source": [
        "import pandas as pd\n",
        "import matplotlib.pyplot as plt\n",
        "import numpy as np"
      ]
    },
    {
      "cell_type": "code",
      "source": [
        "data = pd.read_csv(\"btc_data_5min.csv\")"
      ],
      "metadata": {
        "id": "IlUUoAVqLXtO"
      },
      "execution_count": null,
      "outputs": []
    },
    {
      "cell_type": "code",
      "source": [
        "data.columns"
      ],
      "metadata": {
        "colab": {
          "base_uri": "https://localhost:8080/"
        },
        "id": "MrxFxDO5LYZm",
        "outputId": "972d4fb5-ef86-44d3-eae9-cb164a32a174"
      },
      "execution_count": null,
      "outputs": [
        {
          "output_type": "execute_result",
          "data": {
            "text/plain": [
              "Index(['timestamp', 'sum_volume_last_5min', 'sum_quote_volume_last_5min',\n",
              "       'sum_trades_last_5min', 'sum_taker_base_last_5min',\n",
              "       'sum_taker_quote_last_5min', 'open', 'high', 'low', 'close', 'volume',\n",
              "       'quote_asset_volume', 'num_trades', 'taker_buy_base', 'taker_buy_quote',\n",
              "       'year', 'month', 'day', 'hour', 'minute'],\n",
              "      dtype='object')"
            ]
          },
          "metadata": {},
          "execution_count": 3
        }
      ]
    },
    {
      "cell_type": "code",
      "source": [
        "five_month = data[data['timestamp'] >= '2025-01-01'].copy()"
      ],
      "metadata": {
        "id": "7_Nj3YD-MNaW"
      },
      "execution_count": null,
      "outputs": []
    },
    {
      "cell_type": "code",
      "source": [
        "two_years = data[data['timestamp'] >= '2023-05-18'].copy()"
      ],
      "metadata": {
        "id": "_Sr4AxUPMV3P"
      },
      "execution_count": null,
      "outputs": []
    },
    {
      "cell_type": "code",
      "source": [
        "one_week = data[data['timestamp'] >= '2025-05-01'].copy()"
      ],
      "metadata": {
        "id": "x7G9ETvZPxgL"
      },
      "execution_count": null,
      "outputs": []
    },
    {
      "cell_type": "markdown",
      "source": [
        "# SMA"
      ],
      "metadata": {
        "id": "Js86i4uGMI5m"
      }
    },
    {
      "cell_type": "code",
      "source": [
        "def sma_crossover_backtest(df, fee_rate=0.001, initial_balance=100):\n",
        "    \"\"\"\n",
        "    SMA Crossover (5-20) stratejisi: stepwise (bar-by-bar) backtest.\n",
        "    \"\"\"\n",
        "\n",
        "\n",
        "    df = df.copy().reset_index(drop=True)\n",
        "\n",
        "    # SMA hesaplamaları\n",
        "    df['SMA_5'] = df['close'].rolling(window=5).mean()\n",
        "    df['SMA_20'] = df['close'].rolling(window=20).mean()\n",
        "\n",
        "    # Al-Sat sinyalleri\n",
        "    df['signal'] = 0\n",
        "    df.loc[\n",
        "        (df['SMA_5'] > df['SMA_20']) & (df['SMA_5'].shift(1) <= df['SMA_20'].shift(1)),\n",
        "        'signal'\n",
        "    ] = 1  # AL\n",
        "    df.loc[\n",
        "        (df['SMA_5'] < df['SMA_20']) & (df['SMA_5'].shift(1) >= df['SMA_20'].shift(1)),\n",
        "        'signal'\n",
        "    ] = -1  # SAT\n",
        "\n",
        "    balance = initial_balance\n",
        "    fee_paid = 0.0\n",
        "    position = 0  # 0: no position, 1: long\n",
        "    entry_price = 0.0\n",
        "\n",
        "    equity_list = []\n",
        "    position_list = []\n",
        "    signal_list = []\n",
        "    fee_list = []\n",
        "\n",
        "    for i in range(len(df)):\n",
        "        row = df.iloc[i]\n",
        "        signal = row['signal']\n",
        "\n",
        "        if signal == 1 and position == 0:\n",
        "            # Alış\n",
        "            entry_price = row['close']\n",
        "            fee = balance * fee_rate\n",
        "            balance -= fee\n",
        "            fee_paid += fee\n",
        "            position = 1\n",
        "\n",
        "        elif signal == -1 and position == 1:\n",
        "            # Satış\n",
        "            pnl = (row['close'] - entry_price) / entry_price\n",
        "            gross_balance = balance * (1 + pnl)\n",
        "            fee = gross_balance * fee_rate\n",
        "            balance = gross_balance - fee\n",
        "            fee_paid += fee\n",
        "            position = 0\n",
        "\n",
        "        # Güncel pozisyona göre equity\n",
        "        equity = balance\n",
        "        if position == 1:\n",
        "            equity = balance * (row['close'] / entry_price)\n",
        "\n",
        "        # Kayıt\n",
        "        signal_list.append(signal)\n",
        "        position_list.append(position)\n",
        "        equity_list.append(equity)\n",
        "        fee_list.append(fee_paid)\n",
        "\n",
        "    df['sim_signal'] = signal_list\n",
        "    df['position'] = position_list\n",
        "    df['equity'] = equity_list\n",
        "    df['fee_total'] = fee_list\n",
        "\n",
        "    print(f\"Başlangıç Bakiye: {initial_balance:.2f} USDT\")\n",
        "    print(f\"Final Bakiye: {equity_list[-1]:.2f} USDT\")\n",
        "    print(f\"Toplam Fee: {fee_paid:.2f} USDT\")\n",
        "    print(f\"Toplam İşlem Sayısı: {sum(1 for s in signal_list if s != 0)}\")\n",
        "\n",
        "    return equity_list[-1], fee_paid, df\n"
      ],
      "metadata": {
        "id": "eoDxG57IMIFG"
      },
      "execution_count": null,
      "outputs": []
    },
    {
      "cell_type": "code",
      "source": [
        "final, fee, result_df = sma_crossover_backtest(five_month, fee_rate=0.001, initial_balance=100)"
      ],
      "metadata": {
        "colab": {
          "base_uri": "https://localhost:8080/"
        },
        "id": "UyYCtVYeMeL1",
        "outputId": "a0939464-df1a-42dd-93a8-5bccba378775"
      },
      "execution_count": null,
      "outputs": [
        {
          "output_type": "stream",
          "name": "stdout",
          "text": [
            "Başlangıç Bakiye: 100.00 USDT\n",
            "Final Bakiye: 12.32 USDT\n",
            "Toplam Fee: 94.36 USDT\n",
            "Toplam İşlem Sayısı: 2328\n"
          ]
        }
      ]
    },
    {
      "cell_type": "code",
      "source": [
        "final, fee, result_df = sma_crossover_backtest(two_years, fee_rate=0.001, initial_balance=100)"
      ],
      "metadata": {
        "colab": {
          "base_uri": "https://localhost:8080/"
        },
        "id": "86HB0FS8M933",
        "outputId": "2d0390ee-2126-452c-fd23-266cca6dd697"
      },
      "execution_count": null,
      "outputs": [
        {
          "output_type": "stream",
          "name": "stdout",
          "text": [
            "Başlangıç Bakiye: 100.00 USDT\n",
            "Final Bakiye: 0.00 USDT\n",
            "Toplam Fee: 102.71 USDT\n",
            "Toplam İşlem Sayısı: 13657\n"
          ]
        }
      ]
    },
    {
      "cell_type": "code",
      "source": [
        "final, fee, result_df = sma_crossover_backtest(one_week, fee_rate=0.001, initial_balance=100)"
      ],
      "metadata": {
        "colab": {
          "base_uri": "https://localhost:8080/"
        },
        "id": "anblAfuRP2O7",
        "outputId": "bf2f97b2-8a0d-4a48-d60b-8f3fa9ff8703"
      },
      "execution_count": null,
      "outputs": [
        {
          "output_type": "stream",
          "name": "stdout",
          "text": [
            "Başlangıç Bakiye: 100.00 USDT\n",
            "Final Bakiye: 90.17 USDT\n",
            "Toplam Fee: 13.87 USDT\n",
            "Toplam İşlem Sayısı: 150\n"
          ]
        }
      ]
    },
    {
      "cell_type": "markdown",
      "source": [
        "# EMA"
      ],
      "metadata": {
        "id": "L6NLJY64PeQj"
      }
    },
    {
      "cell_type": "code",
      "source": [
        "def ema_crossover_backtest(df, fee_rate=0.001, initial_balance=1000):\n",
        "    \"\"\"\n",
        "    EMA Crossover (9-21) stratejisi adım adım işleyen backtest fonksiyonu.\n",
        "    \"\"\"\n",
        "\n",
        "\n",
        "    df = df.copy().reset_index(drop=True)\n",
        "\n",
        "    # EMA hesapla\n",
        "    df['EMA_9'] = df['close'].ewm(span=9, adjust=False).mean()\n",
        "    df['EMA_21'] = df['close'].ewm(span=21, adjust=False).mean()\n",
        "\n",
        "    # Sinyal üretimi (cross durumları)\n",
        "    df['signal'] = 0\n",
        "    df.loc[(df['EMA_9'] > df['EMA_21']) & (df['EMA_9'].shift(1) <= df['EMA_21'].shift(1)), 'signal'] = 1  # AL\n",
        "    df.loc[(df['EMA_9'] < df['EMA_21']) & (df['EMA_9'].shift(1) >= df['EMA_21'].shift(1)), 'signal'] = -1  # SAT\n",
        "\n",
        "    balance = initial_balance\n",
        "    position = 0  # 0: none, 1: long\n",
        "    entry_price = 0\n",
        "    fee_paid = 0\n",
        "\n",
        "    equity_list = []\n",
        "    position_list = []\n",
        "    signal_list = []\n",
        "    fee_list = []\n",
        "\n",
        "    for i in range(len(df)):\n",
        "        row = df.iloc[i]\n",
        "        signal = row['signal']\n",
        "\n",
        "        if signal == 1 and position == 0:  # AL\n",
        "            entry_price = row['close']\n",
        "            fee = balance * fee_rate\n",
        "            balance -= fee\n",
        "            fee_paid += fee\n",
        "            position = 1\n",
        "\n",
        "        elif signal == -1 and position == 1:  # SAT\n",
        "            pnl = (row['close'] - entry_price) / entry_price\n",
        "            gross_balance = balance * (1 + pnl)\n",
        "            fee = gross_balance * fee_rate\n",
        "            balance = gross_balance - fee\n",
        "            fee_paid += fee\n",
        "            position = 0\n",
        "\n",
        "        # Güncel equity hesabı\n",
        "        equity = balance\n",
        "        if position == 1:\n",
        "            equity = balance * (row['close'] / entry_price)\n",
        "\n",
        "        signal_list.append(signal)\n",
        "        position_list.append(position)\n",
        "        equity_list.append(equity)\n",
        "        fee_list.append(fee_paid)\n",
        "\n",
        "    df['sim_signal'] = signal_list\n",
        "    df['position'] = position_list\n",
        "    df['equity'] = equity_list\n",
        "    df['fee_total'] = fee_list\n",
        "\n",
        "    print(f\"Başlangıç Bakiye: {initial_balance:.2f} USDT\")\n",
        "    print(f\"Final Bakiye: {equity_list[-1]:.2f} USDT\")\n",
        "    print(f\"Toplam Fee: {fee_paid:.2f} USDT\")\n",
        "    print(f\"Toplam İşlem Sayısı: {sum(1 for s in signal_list if s != 0)}\")\n",
        "\n",
        "    return equity_list[-1], fee_paid, df\n"
      ],
      "metadata": {
        "id": "VDvQQPoIPf2r"
      },
      "execution_count": null,
      "outputs": []
    },
    {
      "cell_type": "code",
      "source": [
        "final, fee, result_df = ema_crossover_backtest(five_month, fee_rate=0.001, initial_balance=100)"
      ],
      "metadata": {
        "colab": {
          "base_uri": "https://localhost:8080/"
        },
        "id": "YKoiO323PhAK",
        "outputId": "71b2082d-fef6-41e0-cf0c-acd32b8946a6"
      },
      "execution_count": null,
      "outputs": [
        {
          "output_type": "stream",
          "name": "stdout",
          "text": [
            "Başlangıç Bakiye: 100.00 USDT\n",
            "Final Bakiye: 21.97 USDT\n",
            "Toplam Fee: 82.08 USDT\n",
            "Toplam İşlem Sayısı: 1685\n"
          ]
        }
      ]
    },
    {
      "cell_type": "code",
      "source": [
        "final, fee, result_df = ema_crossover_backtest(two_years, fee_rate=0.001, initial_balance=100)"
      ],
      "metadata": {
        "colab": {
          "base_uri": "https://localhost:8080/"
        },
        "id": "uc7FUXPjPjWG",
        "outputId": "c31c5731-1cf0-48b0-8dce-f126a0e95a13"
      },
      "execution_count": null,
      "outputs": [
        {
          "output_type": "stream",
          "name": "stdout",
          "text": [
            "Başlangıç Bakiye: 100.00 USDT\n",
            "Final Bakiye: 0.01 USDT\n",
            "Toplam Fee: 102.68 USDT\n",
            "Toplam İşlem Sayısı: 9937\n"
          ]
        }
      ]
    },
    {
      "cell_type": "code",
      "source": [
        "final, fee, result_df = ema_crossover_backtest(one_week, fee_rate=0.001, initial_balance=100)"
      ],
      "metadata": {
        "colab": {
          "base_uri": "https://localhost:8080/"
        },
        "id": "Fo0afz-oQLKS",
        "outputId": "19d48748-956f-4def-eb16-caee4da61520"
      },
      "execution_count": null,
      "outputs": [
        {
          "output_type": "stream",
          "name": "stdout",
          "text": [
            "Başlangıç Bakiye: 100.00 USDT\n",
            "Final Bakiye: 95.93 USDT\n",
            "Toplam Fee: 9.54 USDT\n",
            "Toplam İşlem Sayısı: 99\n"
          ]
        }
      ]
    },
    {
      "cell_type": "code",
      "source": [
        "def volume_spike_strategy(df, volume_col='sum_volume_last_5min', lookback=20,\n",
        "                          spike_threshold=2.0, holding_period=5,\n",
        "                          fee_rate=0.001, initial_balance=1000):\n",
        "    \"\"\"\n",
        "    Hacim patlaması stratejisi (bar-bar simülasyon).\n",
        "    \"\"\"\n",
        "    import numpy as np\n",
        "    import pandas as pd\n",
        "\n",
        "    df = df.copy().reset_index(drop=True)\n",
        "    df['volume_avg'] = df[volume_col].rolling(window=lookback).mean()\n",
        "\n",
        "    balance = initial_balance\n",
        "    fee_paid = 0.0\n",
        "    position = 0  # 0: none, 1: in position\n",
        "    entry_price = 0\n",
        "    exit_timer = 0\n",
        "\n",
        "    equity_list = []\n",
        "    position_list = []\n",
        "    signal_list = []\n",
        "    fee_list = []\n",
        "\n",
        "    for i in range(lookback, len(df)):  # İlk lookback kadar bar atlanır\n",
        "        row = df.iloc[i]\n",
        "        signal = 0\n",
        "\n",
        "        # Spike tespiti ve pozisyona giriş\n",
        "        if position == 0 and row[volume_col] > row['volume_avg'] * spike_threshold:\n",
        "            signal = 1  # AL\n",
        "            entry_price = row['close']\n",
        "            position = 1\n",
        "            exit_timer = holding_period\n",
        "            fee = balance * fee_rate\n",
        "            balance -= fee\n",
        "            fee_paid += fee\n",
        "\n",
        "        # Pozisyondan çıkış\n",
        "        elif position == 1:\n",
        "            exit_timer -= 1\n",
        "            if exit_timer == 0:\n",
        "                pnl = (row['close'] - entry_price) / entry_price\n",
        "                gross_balance = balance * (1 + pnl)\n",
        "                fee = gross_balance * fee_rate\n",
        "                balance = gross_balance - fee\n",
        "                fee_paid += fee\n",
        "                position = 0\n",
        "\n",
        "        # Güncel varlık (equity) hesabı\n",
        "        equity = balance\n",
        "        if position == 1:\n",
        "            equity = balance * (row['close'] / entry_price)\n",
        "\n",
        "        # Kayıt\n",
        "        signal_list.append(signal)\n",
        "        position_list.append(position)\n",
        "        equity_list.append(equity)\n",
        "        fee_list.append(fee_paid)\n",
        "\n",
        "    # İlk lookback kadar satırı doldurmak için None ekle\n",
        "    prepend = [None] * lookback\n",
        "    df['signal'] = prepend + signal_list\n",
        "    df['position'] = prepend + position_list\n",
        "    df['equity'] = prepend + equity_list\n",
        "    df['fee_total'] = prepend + fee_list\n",
        "\n",
        "    print(f\"Başlangıç Bakiye: {initial_balance:.2f} USDT\")\n",
        "    print(f\"Final Bakiye: {equity_list[-1]:.2f} USDT\")\n",
        "    print(f\"Toplam Fee: {fee_paid:.2f} USDT\")\n",
        "    print(f\"Toplam İşlem Sayısı: {sum(1 for s in signal_list if s == 1)}\")\n",
        "\n",
        "    return equity_list[-1], fee_paid, df\n"
      ],
      "metadata": {
        "id": "5N6TxvSMQ6jB"
      },
      "execution_count": null,
      "outputs": []
    },
    {
      "cell_type": "code",
      "source": [
        "final, fee, result_df = volume_spike_strategy(\n",
        "    five_month,\n",
        "    volume_col='sum_volume_last_5min',\n",
        "    lookback=20,\n",
        "    spike_threshold=2.0,\n",
        "    holding_period=5,\n",
        "    fee_rate=0.001,\n",
        "    initial_balance=100\n",
        ")"
      ],
      "metadata": {
        "colab": {
          "base_uri": "https://localhost:8080/"
        },
        "id": "UhL7Kn9jQ8Ea",
        "outputId": "ad5584fe-15d9-46ea-c625-603ff458841c"
      },
      "execution_count": null,
      "outputs": [
        {
          "output_type": "stream",
          "name": "stdout",
          "text": [
            "Başlangıç Bakiye: 100.00 USDT\n",
            "Final Bakiye: 4.02 USDT\n",
            "Toplam Fee: 102.05 USDT\n",
            "Toplam İşlem Sayısı: 1626\n"
          ]
        }
      ]
    },
    {
      "cell_type": "code",
      "source": [
        "final, fee, result_df = volume_spike_strategy(\n",
        "    two_years,\n",
        "    volume_col='sum_volume_last_5min',\n",
        "    lookback=20,\n",
        "    spike_threshold=2.0,\n",
        "    holding_period=5,\n",
        "    fee_rate=0.001,\n",
        "    initial_balance=100\n",
        ")"
      ],
      "metadata": {
        "colab": {
          "base_uri": "https://localhost:8080/"
        },
        "id": "QOCHMHFYRYB5",
        "outputId": "64a9622a-7bf0-423f-9bad-687e4de41f8e"
      },
      "execution_count": null,
      "outputs": [
        {
          "output_type": "stream",
          "name": "stdout",
          "text": [
            "Başlangıç Bakiye: 100.00 USDT\n",
            "Final Bakiye: 0.00 USDT\n",
            "Toplam Fee: 101.83 USDT\n",
            "Toplam İşlem Sayısı: 8802\n"
          ]
        }
      ]
    },
    {
      "cell_type": "code",
      "source": [
        "final, fee, result_df = volume_spike_strategy(\n",
        "    one_week,\n",
        "    volume_col='sum_volume_last_5min',\n",
        "    lookback=20,\n",
        "    spike_threshold=2.0,\n",
        "    holding_period=5,\n",
        "    fee_rate=0.001,\n",
        "    initial_balance=100\n",
        ")"
      ],
      "metadata": {
        "colab": {
          "base_uri": "https://localhost:8080/"
        },
        "id": "XOKpbfDVRjIB",
        "outputId": "03d80515-94dc-4012-d5fb-17ebd050c915"
      },
      "execution_count": null,
      "outputs": [
        {
          "output_type": "stream",
          "name": "stdout",
          "text": [
            "Başlangıç Bakiye: 100.00 USDT\n",
            "Final Bakiye: 85.20 USDT\n",
            "Toplam Fee: 19.30 USDT\n",
            "Toplam İşlem Sayısı: 105\n"
          ]
        }
      ]
    },
    {
      "cell_type": "markdown",
      "source": [
        "# RSI"
      ],
      "metadata": {
        "id": "bumTKjVRR6JB"
      }
    },
    {
      "cell_type": "code",
      "source": [
        "def rsi_strategy_stepwise(df, period=14, lower=30, upper=70,\n",
        "                          fee_rate=0.001, initial_balance=1000):\n",
        "    \"\"\"\n",
        "    RSI tabanlı stratejinin adım adım (stepwise) işleyen, düzeltilmiş versiyonu.\n",
        "    \"\"\"\n",
        "\n",
        "    df = df.copy().reset_index(drop=True)\n",
        "\n",
        "    # RSI hesaplama\n",
        "    delta = df['close'].diff()\n",
        "    gain = np.where(delta > 0, delta, 0)\n",
        "    loss = np.where(delta < 0, -delta, 0)\n",
        "    avg_gain = pd.Series(gain).rolling(window=period).mean()\n",
        "    avg_loss = pd.Series(loss).rolling(window=period).mean()\n",
        "    rs = avg_gain / (avg_loss + 1e-10)\n",
        "    df['RSI'] = 100 - (100 / (1 + rs))\n",
        "\n",
        "    # Simülasyon değişkenleri\n",
        "    balance = initial_balance\n",
        "    position = 0  # 1: long, 0: none\n",
        "    entry_price = 0\n",
        "    fee_paid = 0\n",
        "\n",
        "    equity_list = []\n",
        "    position_list = []\n",
        "    signal_list = []\n",
        "    fee_list = []\n",
        "\n",
        "    for i in range(period, len(df)):  # RSI oluşmaya başladıktan sonra\n",
        "        row = df.iloc[i]\n",
        "\n",
        "        signal = 0\n",
        "\n",
        "        if row['RSI'] < lower and position == 0:\n",
        "            signal = 1  # AL\n",
        "            fee = balance * fee_rate\n",
        "            fee_paid += fee\n",
        "            balance -= fee  # Komisyon düş\n",
        "            entry_price = row['close']\n",
        "            position = 1\n",
        "\n",
        "        elif row['RSI'] > upper and position == 1:\n",
        "            signal = -1  # SAT\n",
        "            pnl = (row['close'] - entry_price) / entry_price\n",
        "            gross_balance = balance * (1 + pnl)\n",
        "            fee = gross_balance * fee_rate\n",
        "            fee_paid += fee\n",
        "            balance = gross_balance - fee  # Kar/zarar uygula ve fee düş\n",
        "            position = 0\n",
        "\n",
        "        # Güncel pozisyona göre equity hesapla\n",
        "        equity = balance\n",
        "        if position == 1:\n",
        "            equity = balance * (row['close'] / entry_price)\n",
        "\n",
        "        equity_list.append(equity)\n",
        "        position_list.append(position)\n",
        "        signal_list.append(signal)\n",
        "        fee_list.append(fee_paid)\n",
        "\n",
        "    # İlk period kadar olan kısımlar NaN olacak şekilde doldur\n",
        "    prepend_nan = [None] * period\n",
        "    df['signal'] = prepend_nan + signal_list\n",
        "    df['position'] = prepend_nan + position_list\n",
        "    df['equity'] = prepend_nan + equity_list\n",
        "    df['fee_total'] = prepend_nan + fee_list\n",
        "\n",
        "    print(f\"Başlangıç Bakiye: {initial_balance:.2f} USDT\")\n",
        "    print(f\"Final Bakiye: {equity_list[-1]:.2f} USDT\")\n",
        "    print(f\"Toplam Fee: {fee_paid:.2f} USDT\")\n",
        "    print(f\"Toplam İşlem Sayısı: {sum(1 for s in signal_list if s != 0)}\")\n",
        "\n",
        "    return equity_list[-1], fee_paid, df\n"
      ],
      "metadata": {
        "id": "xvVkz2V-SY74"
      },
      "execution_count": null,
      "outputs": []
    },
    {
      "cell_type": "code",
      "source": [
        "final, fee, result_df = rsi_strategy_stepwise(\n",
        "    one_week,\n",
        "    period=14,\n",
        "    lower=30,\n",
        "    upper=70,\n",
        "    fee_rate=0.001,\n",
        "    initial_balance=100\n",
        ")"
      ],
      "metadata": {
        "colab": {
          "base_uri": "https://localhost:8080/"
        },
        "id": "JorE-THiScAQ",
        "outputId": "43739e3e-f5a3-4a4e-bd5d-cf252b841401"
      },
      "execution_count": null,
      "outputs": [
        {
          "output_type": "stream",
          "name": "stdout",
          "text": [
            "Başlangıç Bakiye: 100.00 USDT\n",
            "Final Bakiye: 98.65 USDT\n",
            "Toplam Fee: 4.50 USDT\n",
            "Toplam İşlem Sayısı: 46\n"
          ]
        }
      ]
    },
    {
      "cell_type": "code",
      "source": [
        "final, fee, result_df = rsi_strategy_stepwise(\n",
        "    five_month,\n",
        "    period=14,\n",
        "    lower=30,\n",
        "    upper=70,\n",
        "    fee_rate=0.001,\n",
        "    initial_balance=100\n",
        ")"
      ],
      "metadata": {
        "colab": {
          "base_uri": "https://localhost:8080/"
        },
        "id": "ip_BJhnteOhw",
        "outputId": "56cd5ce8-f802-43e3-ddaa-22aa5e77ad39"
      },
      "execution_count": null,
      "outputs": [
        {
          "output_type": "stream",
          "name": "stdout",
          "text": [
            "Başlangıç Bakiye: 100.00 USDT\n",
            "Final Bakiye: 45.31 USDT\n",
            "Toplam Fee: 50.99 USDT\n",
            "Toplam İşlem Sayısı: 782\n"
          ]
        }
      ]
    },
    {
      "cell_type": "code",
      "source": [
        "final, fee, result_df = rsi_strategy_stepwise(\n",
        "    two_years,\n",
        "    period=14,\n",
        "    lower=30,\n",
        "    upper=70,\n",
        "    fee_rate=0.001,\n",
        "    initial_balance=100\n",
        ")"
      ],
      "metadata": {
        "colab": {
          "base_uri": "https://localhost:8080/"
        },
        "id": "M5FBefHDeQg_",
        "outputId": "23fb69f9-21d7-43b0-d9a3-237e873f76bf"
      },
      "execution_count": null,
      "outputs": [
        {
          "output_type": "stream",
          "name": "stdout",
          "text": [
            "Başlangıç Bakiye: 100.00 USDT\n",
            "Final Bakiye: 1.44 USDT\n",
            "Toplam Fee: 107.98 USDT\n",
            "Toplam İşlem Sayısı: 4822\n"
          ]
        }
      ]
    },
    {
      "cell_type": "markdown",
      "source": [
        "# MACD"
      ],
      "metadata": {
        "id": "jssIupzwaNhr"
      }
    },
    {
      "cell_type": "code",
      "source": [
        "def macd_zero_cross_backtest(df, fee_rate=0.001, initial_balance=1000):\n",
        "    \"\"\"\n",
        "    MACD Zero Cross stratejisi backtest fonksiyonu.\n",
        "    - AL: MACD 0'ın altından yukarı keserse.\n",
        "    - SAT: MACD 0'ın üstünden aşağı keserse.\n",
        "    \"\"\"\n",
        "\n",
        "\n",
        "\n",
        "    df = df.copy().reset_index(drop=True)\n",
        "\n",
        "    # MACD hesapla\n",
        "    df['EMA_12'] = df['close'].ewm(span=12, adjust=False).mean()\n",
        "    df['EMA_26'] = df['close'].ewm(span=26, adjust=False).mean()\n",
        "    df['MACD'] = df['EMA_12'] - df['EMA_26']\n",
        "\n",
        "    # Sinyal üretimi (zero cross)\n",
        "    df['signal'] = 0\n",
        "    df.loc[(df['MACD'] > 0) & (df['MACD'].shift(1) <= 0), 'signal'] = 1   # AL\n",
        "    df.loc[(df['MACD'] < 0) & (df['MACD'].shift(1) >= 0), 'signal'] = -1  # SAT\n",
        "\n",
        "    balance = initial_balance\n",
        "    position = 0  # 0: none, 1: long\n",
        "    entry_price = 0\n",
        "    fee_paid = 0\n",
        "\n",
        "    equity_list = []\n",
        "    position_list = []\n",
        "    signal_list = []\n",
        "    fee_list = []\n",
        "\n",
        "    for i in range(len(df)):\n",
        "        row = df.iloc[i]\n",
        "        signal = row['signal']\n",
        "\n",
        "        if signal == 1 and position == 0:  # AL\n",
        "            entry_price = row['close']\n",
        "            fee = balance * fee_rate\n",
        "            balance -= fee\n",
        "            fee_paid += fee\n",
        "            position = 1\n",
        "\n",
        "        elif signal == -1 and position == 1:  # SAT\n",
        "            pnl = (row['close'] - entry_price) / entry_price\n",
        "            gross_balance = balance * (1 + pnl)\n",
        "            fee = gross_balance * fee_rate\n",
        "            balance = gross_balance - fee\n",
        "            fee_paid += fee\n",
        "            position = 0\n",
        "\n",
        "        # Güncel equity hesabı\n",
        "        equity = balance\n",
        "        if position == 1:\n",
        "            equity = balance * (row['close'] / entry_price)\n",
        "\n",
        "        signal_list.append(signal)\n",
        "        position_list.append(position)\n",
        "        equity_list.append(equity)\n",
        "        fee_list.append(fee_paid)\n",
        "\n",
        "    # Pozisyon açık kaldıysa son fiyattan kapat\n",
        "    if position == 1:\n",
        "        row = df.iloc[-1]\n",
        "        pnl = (row['close'] - entry_price) / entry_price\n",
        "        gross_balance = balance * (1 + pnl)\n",
        "        fee = gross_balance * fee_rate\n",
        "        balance = gross_balance - fee\n",
        "        fee_paid += fee\n",
        "        equity = balance\n",
        "        equity_list[-1] = equity\n",
        "\n",
        "    df['sim_signal'] = signal_list\n",
        "    df['position'] = position_list\n",
        "    df['equity'] = equity_list\n",
        "    df['fee_total'] = fee_list\n",
        "\n",
        "    print(f\"Başlangıç Bakiye: {initial_balance:.2f} USDT\")\n",
        "    print(f\"Final Bakiye: {equity_list[-1]:.2f} USDT\")\n",
        "    print(f\"Toplam Fee: {fee_paid:.2f} USDT\")\n",
        "    print(f\"Toplam İşlem Sayısı: {sum(1 for s in signal_list if s != 0)}\")\n",
        "\n",
        "    return equity_list[-1], fee_paid, df\n"
      ],
      "metadata": {
        "id": "_gxVmWDnei52"
      },
      "execution_count": null,
      "outputs": []
    },
    {
      "cell_type": "code",
      "source": [
        "final_balance, total_fee, result_df = macd_zero_cross_backtest(one_week, fee_rate=0.001, initial_balance=100)"
      ],
      "metadata": {
        "colab": {
          "base_uri": "https://localhost:8080/"
        },
        "id": "0IxMU9wce0eu",
        "outputId": "1479ce97-f339-4f02-fa3a-3cf0d26651f7"
      },
      "execution_count": null,
      "outputs": [
        {
          "output_type": "stream",
          "name": "stdout",
          "text": [
            "Başlangıç Bakiye: 100.00 USDT\n",
            "Final Bakiye: 97.93 USDT\n",
            "Toplam Fee: 7.60 USDT\n",
            "Toplam İşlem Sayısı: 77\n"
          ]
        }
      ]
    },
    {
      "cell_type": "code",
      "source": [
        "final_balance, total_fee, result_df = macd_zero_cross_backtest(five_month, fee_rate=0.001, initial_balance=100)"
      ],
      "metadata": {
        "colab": {
          "base_uri": "https://localhost:8080/"
        },
        "id": "eysVXtbIe66e",
        "outputId": "74856a7d-ba90-4d22-eacf-6ef233635768"
      },
      "execution_count": null,
      "outputs": [
        {
          "output_type": "stream",
          "name": "stdout",
          "text": [
            "Başlangıç Bakiye: 100.00 USDT\n",
            "Final Bakiye: 34.64 USDT\n",
            "Toplam Fee: 76.61 USDT\n",
            "Toplam İşlem Sayısı: 1287\n"
          ]
        }
      ]
    },
    {
      "cell_type": "code",
      "source": [
        "final_balance, total_fee, result_df = macd_zero_cross_backtest(two_years, fee_rate=0.001, initial_balance=100)"
      ],
      "metadata": {
        "colab": {
          "base_uri": "https://localhost:8080/"
        },
        "id": "P7NK678se88G",
        "outputId": "0cd41343-786f-4842-f938-d69e420e31be"
      },
      "execution_count": null,
      "outputs": [
        {
          "output_type": "stream",
          "name": "stdout",
          "text": [
            "Başlangıç Bakiye: 100.00 USDT\n",
            "Final Bakiye: 0.15 USDT\n",
            "Toplam Fee: 108.90 USDT\n",
            "Toplam İşlem Sayısı: 7713\n"
          ]
        }
      ]
    },
    {
      "cell_type": "markdown",
      "source": [
        "# Bollinger"
      ],
      "metadata": {
        "id": "8x_3QQUWaP8-"
      }
    },
    {
      "cell_type": "code",
      "source": [
        "def bollinger_reversion_backtest(df, window=20, num_std=2, fee_rate=0.001, initial_balance=1000):\n",
        "    \"\"\"\n",
        "    Bollinger Bands Mean Reversion stratejisi backtest fonksiyonu (long-only).\n",
        "    - AL: Fiyat alt bandı aşağıdan yukarıya keserse.\n",
        "    - SAT: Fiyat üst bandı yukarıdan aşağıya keserse.\n",
        "    \"\"\"\n",
        "\n",
        "\n",
        "    df = df.copy().reset_index(drop=True)\n",
        "\n",
        "    # Bollinger Bands hesapla\n",
        "    df['MA'] = df['close'].rolling(window).mean()\n",
        "    df['STD'] = df['close'].rolling(window).std()\n",
        "    df['Upper'] = df['MA'] + num_std * df['STD']\n",
        "    df['Lower'] = df['MA'] - num_std * df['STD']\n",
        "\n",
        "    # Sinyal üretimi\n",
        "    df['signal'] = 0\n",
        "\n",
        "    # AL: Alt bandı aşağıdan yukarıya keserse\n",
        "    df.loc[\n",
        "        (df['close'] > df['Lower']) & (df['close'].shift(1) <= df['Lower'].shift(1)),\n",
        "        'signal'\n",
        "    ] = 1\n",
        "\n",
        "    # SAT: Üst bandı yukarıdan aşağıya keserse\n",
        "    df.loc[\n",
        "        (df['close'] < df['Upper']) & (df['close'].shift(1) >= df['Upper'].shift(1)),\n",
        "        'signal'\n",
        "    ] = -1\n",
        "\n",
        "    balance = initial_balance\n",
        "    position = 0  # 0: none, 1: long\n",
        "    entry_price = 0\n",
        "    fee_paid = 0\n",
        "\n",
        "    equity_list = []\n",
        "    position_list = []\n",
        "    signal_list = []\n",
        "    fee_list = []\n",
        "\n",
        "    for i in range(len(df)):\n",
        "        row = df.iloc[i]\n",
        "        signal = row['signal']\n",
        "\n",
        "        if signal == 1 and position == 0:  # AL\n",
        "            entry_price = row['close']\n",
        "            fee = balance * fee_rate\n",
        "            balance -= fee\n",
        "            fee_paid += fee\n",
        "            position = 1\n",
        "\n",
        "        elif signal == -1 and position == 1:  # SAT\n",
        "            pnl = (row['close'] - entry_price) / entry_price\n",
        "            gross_balance = balance * (1 + pnl)\n",
        "            fee = gross_balance * fee_rate\n",
        "            balance = gross_balance - fee\n",
        "            fee_paid += fee\n",
        "            position = 0\n",
        "\n",
        "        equity = balance\n",
        "        if position == 1:\n",
        "            equity = balance * (row['close'] / entry_price)\n",
        "\n",
        "        signal_list.append(signal)\n",
        "        position_list.append(position)\n",
        "        equity_list.append(equity)\n",
        "        fee_list.append(fee_paid)\n",
        "\n",
        "    # Pozisyon açık kaldıysa son fiyattan kapat\n",
        "    if position == 1:\n",
        "        row = df.iloc[-1]\n",
        "        pnl = (row['close'] - entry_price) / entry_price\n",
        "        gross_balance = balance * (1 + pnl)\n",
        "        fee = gross_balance * fee_rate\n",
        "        balance = gross_balance - fee\n",
        "        fee_paid += fee\n",
        "        equity = balance\n",
        "        equity_list[-1] = equity\n",
        "\n",
        "    df['sim_signal'] = signal_list\n",
        "    df['position'] = position_list\n",
        "    df['equity'] = equity_list\n",
        "    df['fee_total'] = fee_list\n",
        "\n",
        "    print(f\"Başlangıç Bakiye: {initial_balance:.2f} USDT\")\n",
        "    print(f\"Final Bakiye: {equity_list[-1]:.2f} USDT\")\n",
        "    print(f\"Toplam Fee: {fee_paid:.2f} USDT\")\n",
        "    print(f\"Toplam İşlem Sayısı: {sum(1 for s in signal_list if s != 0)}\")\n",
        "\n",
        "    return equity_list[-1], fee_paid, df\n"
      ],
      "metadata": {
        "id": "cNbFgKwXfOoO"
      },
      "execution_count": null,
      "outputs": []
    },
    {
      "cell_type": "code",
      "source": [
        "final_balance, total_fee, result_df = bollinger_reversion_backtest(one_week, window=20, num_std=2, fee_rate=0.001, initial_balance=100)"
      ],
      "metadata": {
        "colab": {
          "base_uri": "https://localhost:8080/"
        },
        "id": "7zP2rQWdfQYW",
        "outputId": "1ac7dc29-1fd6-411d-f6ff-bb2f808e3b2c"
      },
      "execution_count": null,
      "outputs": [
        {
          "output_type": "stream",
          "name": "stdout",
          "text": [
            "Başlangıç Bakiye: 100.00 USDT\n",
            "Final Bakiye: 97.01 USDT\n",
            "Toplam Fee: 4.14 USDT\n",
            "Toplam İşlem Sayısı: 114\n"
          ]
        }
      ]
    },
    {
      "cell_type": "code",
      "source": [
        "final_balance, total_fee, result_df = bollinger_reversion_backtest(five_month, window=20, num_std=2, fee_rate=0.001, initial_balance=100)"
      ],
      "metadata": {
        "colab": {
          "base_uri": "https://localhost:8080/"
        },
        "id": "OQ9zNY56fUV-",
        "outputId": "644b8ff2-5437-40e1-89a7-46802c6fbf94"
      },
      "execution_count": null,
      "outputs": [
        {
          "output_type": "stream",
          "name": "stdout",
          "text": [
            "Başlangıç Bakiye: 100.00 USDT\n",
            "Final Bakiye: 45.63 USDT\n",
            "Toplam Fee: 51.40 USDT\n",
            "Toplam İşlem Sayısı: 2057\n"
          ]
        }
      ]
    },
    {
      "cell_type": "code",
      "source": [
        "final_balance, total_fee, result_df = bollinger_reversion_backtest(two_years, window=20, num_std=2, fee_rate=0.001, initial_balance=100)"
      ],
      "metadata": {
        "colab": {
          "base_uri": "https://localhost:8080/"
        },
        "id": "nu0K9ammfWYn",
        "outputId": "fd3d6a22-1c92-4c24-a54f-9fb1ff16a729"
      },
      "execution_count": null,
      "outputs": [
        {
          "output_type": "stream",
          "name": "stdout",
          "text": [
            "Başlangıç Bakiye: 100.00 USDT\n",
            "Final Bakiye: 2.89 USDT\n",
            "Toplam Fee: 109.72 USDT\n",
            "Toplam İşlem Sayısı: 11565\n"
          ]
        }
      ]
    },
    {
      "cell_type": "markdown",
      "source": [
        "# MA Slope"
      ],
      "metadata": {
        "id": "_QNGOUytaSBT"
      }
    },
    {
      "cell_type": "code",
      "source": [
        "def ma_slope_backtest(df, ma_window=14, fee_rate=0.001, initial_balance=100):\n",
        "    \"\"\"\n",
        "    Moving Average Slope stratejisi backtest fonksiyonu.\n",
        "    - AL: MA eğimi negatiften pozitife dönerse\n",
        "    - SAT: MA eğimi pozitiften negatife dönerse\n",
        "    \"\"\"\n",
        "\n",
        "\n",
        "    df = df.copy().reset_index(drop=True)\n",
        "\n",
        "    # SMA hesapla\n",
        "    df['MA'] = df['close'].rolling(ma_window).mean()\n",
        "    # Eğimi hesapla (mevcut MA - bir önceki MA)\n",
        "    df['slope'] = df['MA'] - df['MA'].shift(1)\n",
        "\n",
        "    # Sinyal üretimi\n",
        "    df['signal'] = 0\n",
        "    # Slope negatiften pozitife geçiyorsa AL\n",
        "    df.loc[(df['slope'] > 0) & (df['slope'].shift(1) <= 0), 'signal'] = 1\n",
        "    # Slope pozitiften negatife geçiyorsa SAT\n",
        "    df.loc[(df['slope'] < 0) & (df['slope'].shift(1) >= 0), 'signal'] = -1\n",
        "\n",
        "    balance = initial_balance\n",
        "    position = 0\n",
        "    entry_price = 0\n",
        "    fee_paid = 0\n",
        "\n",
        "    equity_list = []\n",
        "    position_list = []\n",
        "    signal_list = []\n",
        "    fee_list = []\n",
        "\n",
        "    for i in range(len(df)):\n",
        "        row = df.iloc[i]\n",
        "        signal = row['signal']\n",
        "\n",
        "        if signal == 1 and position == 0:  # AL\n",
        "            entry_price = row['close']\n",
        "            fee = balance * fee_rate\n",
        "            balance -= fee\n",
        "            fee_paid += fee\n",
        "            position = 1\n",
        "\n",
        "        elif signal == -1 and position == 1:  # SAT\n",
        "            pnl = (row['close'] - entry_price) / entry_price\n",
        "            gross_balance = balance * (1 + pnl)\n",
        "            fee = gross_balance * fee_rate\n",
        "            balance = gross_balance - fee\n",
        "            fee_paid += fee\n",
        "            position = 0\n",
        "\n",
        "        equity = balance\n",
        "        if position == 1:\n",
        "            equity = balance * (row['close'] / entry_price)\n",
        "\n",
        "        signal_list.append(signal)\n",
        "        position_list.append(position)\n",
        "        equity_list.append(equity)\n",
        "        fee_list.append(fee_paid)\n",
        "\n",
        "    # Pozisyon açık kaldıysa son fiyattan kapat\n",
        "    if position == 1:\n",
        "        row = df.iloc[-1]\n",
        "        pnl = (row['close'] - entry_price) / entry_price\n",
        "        gross_balance = balance * (1 + pnl)\n",
        "        fee = gross_balance * fee_rate\n",
        "        balance = gross_balance - fee\n",
        "        fee_paid += fee\n",
        "        equity = balance\n",
        "        equity_list[-1] = equity\n",
        "\n",
        "    df['sim_signal'] = signal_list\n",
        "    df['position'] = position_list\n",
        "    df['equity'] = equity_list\n",
        "    df['fee_total'] = fee_list\n",
        "\n",
        "    print(f\"Başlangıç Bakiye: {initial_balance:.2f} USDT\")\n",
        "    print(f\"Final Bakiye: {equity_list[-1]:.2f} USDT\")\n",
        "    print(f\"Toplam Fee: {fee_paid:.2f} USDT\")\n",
        "    print(f\"Toplam İşlem Sayısı: {sum(1 for s in signal_list if s != 0)}\")\n",
        "\n",
        "    return equity_list[-1], fee_paid, df\n"
      ],
      "metadata": {
        "id": "pXE8BF7yqngV"
      },
      "execution_count": null,
      "outputs": []
    },
    {
      "cell_type": "code",
      "source": [
        "final_balance, total_fee, result_df = ma_slope_backtest(one_week, ma_window=14)\n"
      ],
      "metadata": {
        "colab": {
          "base_uri": "https://localhost:8080/"
        },
        "id": "W3v5HU9KqpmV",
        "outputId": "af9a1db8-667f-4f3f-a1b6-eda7a9c8dd51"
      },
      "execution_count": null,
      "outputs": [
        {
          "output_type": "stream",
          "name": "stdout",
          "text": [
            "Başlangıç Bakiye: 100.00 USDT\n",
            "Final Bakiye: 77.35 USDT\n",
            "Toplam Fee: 24.59 USDT\n",
            "Toplam İşlem Sayısı: 286\n"
          ]
        }
      ]
    },
    {
      "cell_type": "code",
      "source": [
        "final_balance, total_fee, result_df = ma_slope_backtest(five_month, ma_window=14)\n"
      ],
      "metadata": {
        "colab": {
          "base_uri": "https://localhost:8080/"
        },
        "id": "E-sRmbbFqygO",
        "outputId": "c3e1ceef-d9d0-479d-cd01-490e3d6e3fb8"
      },
      "execution_count": null,
      "outputs": [
        {
          "output_type": "stream",
          "name": "stdout",
          "text": [
            "Başlangıç Bakiye: 100.00 USDT\n",
            "Final Bakiye: 0.95 USDT\n",
            "Toplam Fee: 98.07 USDT\n",
            "Toplam İşlem Sayısı: 4687\n"
          ]
        }
      ]
    },
    {
      "cell_type": "code",
      "source": [
        "final_balance, total_fee, result_df = ma_slope_backtest(two_years, ma_window=14)\n"
      ],
      "metadata": {
        "colab": {
          "base_uri": "https://localhost:8080/"
        },
        "id": "RAYc9Ti7q0z2",
        "outputId": "c66fb2fb-5a19-4d4a-c7ca-bf7b60cdb36f"
      },
      "execution_count": null,
      "outputs": [
        {
          "output_type": "stream",
          "name": "stdout",
          "text": [
            "Başlangıç Bakiye: 100.00 USDT\n",
            "Final Bakiye: 0.00 USDT\n",
            "Toplam Fee: 104.77 USDT\n",
            "Toplam İşlem Sayısı: 27140\n"
          ]
        }
      ]
    },
    {
      "cell_type": "markdown",
      "source": [
        "#Quote Volume Divergence"
      ],
      "metadata": {
        "id": "JpXxMpZEaUKE"
      }
    },
    {
      "cell_type": "code",
      "source": [
        "def quote_volume_divergence_backtest(\n",
        "    df, lookback=10, fee_rate=0.001, initial_balance=100\n",
        "):\n",
        "    \"\"\"\n",
        "    Quote Volume Divergence stratejisi için basit backtest fonksiyonu (long only).\n",
        "    - AL: Fiyat yeni dipte ama quote_volume yeni dipte değilse (pozitif diverjans)\n",
        "    - SAT: Fiyat yeni tepe ama quote_volume yeni tepe değilse (negatif diverjans)\n",
        "    \"\"\"\n",
        "\n",
        "    df = df.copy().reset_index(drop=True)\n",
        "    # Sinyal sütunu\n",
        "    df['signal'] = 0\n",
        "\n",
        "    for i in range(lookback, len(df)):\n",
        "        price_window = df['close'][i - lookback : i]\n",
        "        vol_window = df['quote_asset_volume'][i - lookback : i]\n",
        "        # Fiyat yeni dip, volume yeni dip değilse = AL\n",
        "        if (\n",
        "            df['close'][i] == price_window.min()\n",
        "            and df['quote_asset_volume'][i] > vol_window.min()\n",
        "        ):\n",
        "            df.at[i, 'signal'] = 1\n",
        "        # Fiyat yeni tepe, volume yeni tepe değilse = SAT\n",
        "        elif (\n",
        "            df['close'][i] == price_window.max()\n",
        "            and df['quote_asset_volume'][i] < vol_window.max()\n",
        "        ):\n",
        "            df.at[i, 'signal'] = -1\n",
        "\n",
        "    balance = initial_balance\n",
        "    position = 0\n",
        "    entry_price = 0\n",
        "    fee_paid = 0\n",
        "\n",
        "    equity_list = []\n",
        "    position_list = []\n",
        "    signal_list = []\n",
        "    fee_list = []\n",
        "\n",
        "    for i in range(len(df)):\n",
        "        row = df.iloc[i]\n",
        "        signal = row['signal']\n",
        "\n",
        "        if signal == 1 and position == 0:  # AL\n",
        "            entry_price = row['close']\n",
        "            fee = balance * fee_rate\n",
        "            balance -= fee\n",
        "            fee_paid += fee\n",
        "            position = 1\n",
        "\n",
        "        elif signal == -1 and position == 1:  # SAT\n",
        "            pnl = (row['close'] - entry_price) / entry_price\n",
        "            gross_balance = balance * (1 + pnl)\n",
        "            fee = gross_balance * fee_rate\n",
        "            balance = gross_balance - fee\n",
        "            fee_paid += fee\n",
        "            position = 0\n",
        "\n",
        "        equity = balance\n",
        "        if position == 1:\n",
        "            equity = balance * (row['close'] / entry_price)\n",
        "\n",
        "        signal_list.append(signal)\n",
        "        position_list.append(position)\n",
        "        equity_list.append(equity)\n",
        "        fee_list.append(fee_paid)\n",
        "\n",
        "    # Pozisyon açık kaldıysa son fiyattan kapat\n",
        "    if position == 1:\n",
        "        row = df.iloc[-1]\n",
        "        pnl = (row['close'] - entry_price) / entry_price\n",
        "        gross_balance = balance * (1 + pnl)\n",
        "        fee = gross_balance * fee_rate\n",
        "        balance = gross_balance - fee\n",
        "        fee_paid += fee\n",
        "        equity = balance\n",
        "        equity_list[-1] = equity\n",
        "\n",
        "    df['sim_signal'] = signal_list\n",
        "    df['position'] = position_list\n",
        "    df['equity'] = equity_list\n",
        "    df['fee_total'] = fee_list\n",
        "\n",
        "    print(f\"Başlangıç Bakiye: {initial_balance:.2f} USDT\")\n",
        "    print(f\"Final Bakiye: {equity_list[-1]:.2f} USDT\")\n",
        "    print(f\"Toplam Fee: {fee_paid:.2f} USDT\")\n",
        "    print(f\"Toplam İşlem Sayısı: {sum(1 for s in signal_list if s != 0)}\")\n",
        "\n",
        "    return equity_list[-1], fee_paid, df\n"
      ],
      "metadata": {
        "id": "OXtJwchHq_0c"
      },
      "execution_count": null,
      "outputs": []
    },
    {
      "cell_type": "code",
      "source": [
        "final_balance, total_fee, result_df = quote_volume_divergence_backtest(one_week, lookback=10)\n"
      ],
      "metadata": {
        "colab": {
          "base_uri": "https://localhost:8080/"
        },
        "id": "FdwFnaM1rBpc",
        "outputId": "509d96e6-8eb2-4be1-8e42-f8489b36fab3"
      },
      "execution_count": null,
      "outputs": [
        {
          "output_type": "stream",
          "name": "stdout",
          "text": [
            "Başlangıç Bakiye: 100.00 USDT\n",
            "Final Bakiye: 102.55 USDT\n",
            "Toplam Fee: 0.40 USDT\n",
            "Toplam İşlem Sayısı: 6\n"
          ]
        }
      ]
    },
    {
      "cell_type": "code",
      "source": [
        "final_balance, total_fee, result_df = quote_volume_divergence_backtest(five_month, lookback=10)\n"
      ],
      "metadata": {
        "colab": {
          "base_uri": "https://localhost:8080/"
        },
        "id": "2Mh03UAFrDLE",
        "outputId": "9cc2c03d-be12-4e24-883c-6b9143a46b2a"
      },
      "execution_count": null,
      "outputs": [
        {
          "output_type": "stream",
          "name": "stdout",
          "text": [
            "Başlangıç Bakiye: 100.00 USDT\n",
            "Final Bakiye: 103.01 USDT\n",
            "Toplam Fee: 1.35 USDT\n",
            "Toplam İşlem Sayısı: 22\n"
          ]
        }
      ]
    },
    {
      "cell_type": "code",
      "source": [
        "final_balance, total_fee, result_df = quote_volume_divergence_backtest(two_years, lookback=10)\n"
      ],
      "metadata": {
        "colab": {
          "base_uri": "https://localhost:8080/"
        },
        "id": "GXAB34A3rFmc",
        "outputId": "d22f78b7-ce26-4404-cea6-7932bad67a98"
      },
      "execution_count": null,
      "outputs": [
        {
          "output_type": "stream",
          "name": "stdout",
          "text": [
            "Başlangıç Bakiye: 100.00 USDT\n",
            "Final Bakiye: 267.17 USDT\n",
            "Toplam Fee: 27.15 USDT\n",
            "Toplam İşlem Sayısı: 343\n"
          ]
        }
      ]
    },
    {
      "cell_type": "markdown",
      "source": [
        "# Buy Pressure Dominance"
      ],
      "metadata": {
        "id": "CeXXAPj3aWyj"
      }
    },
    {
      "cell_type": "code",
      "source": [
        "def buy_pressure_dominance_backtest(\n",
        "    df, ratio_threshold=0.7, fee_rate=0.001, initial_balance=100\n",
        "):\n",
        "    \"\"\"\n",
        "    Buy Pressure Dominance stratejisi için backtest fonksiyonu (long only).\n",
        "    - AL: Alıcı baskısı oranı (taker_buy_quote / quote_asset_volume) threshold'u aşarsa ve artıyorsa\n",
        "    - SAT: Alıcı baskısı oranı threshold altına inerse veya hızlıca düşerse\n",
        "    \"\"\"\n",
        "\n",
        "    df = df.copy().reset_index(drop=True)\n",
        "\n",
        "    # Buy pressure ratio hesapla\n",
        "    df['buy_pressure_ratio'] = df['taker_buy_quote'] / df['quote_asset_volume']\n",
        "\n",
        "    # Sinyal sütunu\n",
        "    df['signal'] = 0\n",
        "\n",
        "    for i in range(1, len(df)):\n",
        "        ratio_now = df.at[i, 'buy_pressure_ratio']\n",
        "        ratio_prev = df.at[i - 1, 'buy_pressure_ratio']\n",
        "\n",
        "        # AL sinyali: oran threshold üzerinde ve artıyorsa\n",
        "        if (ratio_now > ratio_threshold) and (ratio_now > ratio_prev):\n",
        "            df.at[i, 'signal'] = 1\n",
        "\n",
        "        # SAT sinyali: oran threshold altına inerse veya önceki bara göre ciddi düşüş varsa\n",
        "        elif (ratio_now < ratio_threshold) and (ratio_now < ratio_prev * 0.95):\n",
        "            df.at[i, 'signal'] = -1\n",
        "\n",
        "    balance = initial_balance\n",
        "    position = 0\n",
        "    entry_price = 0\n",
        "    fee_paid = 0\n",
        "\n",
        "    equity_list = []\n",
        "    position_list = []\n",
        "    signal_list = []\n",
        "    fee_list = []\n",
        "\n",
        "    for i in range(len(df)):\n",
        "        row = df.iloc[i]\n",
        "        signal = row['signal']\n",
        "\n",
        "        if signal == 1 and position == 0:  # AL\n",
        "            entry_price = row['close']\n",
        "            fee = balance * fee_rate\n",
        "            balance -= fee\n",
        "            fee_paid += fee\n",
        "            position = 1\n",
        "\n",
        "        elif signal == -1 and position == 1:  # SAT\n",
        "            pnl = (row['close'] - entry_price) / entry_price\n",
        "            gross_balance = balance * (1 + pnl)\n",
        "            fee = gross_balance * fee_rate\n",
        "            balance = gross_balance - fee\n",
        "            fee_paid += fee\n",
        "            position = 0\n",
        "\n",
        "        equity = balance\n",
        "        if position == 1:\n",
        "            equity = balance * (row['close'] / entry_price)\n",
        "\n",
        "        signal_list.append(signal)\n",
        "        position_list.append(position)\n",
        "        equity_list.append(equity)\n",
        "        fee_list.append(fee_paid)\n",
        "\n",
        "    # Pozisyon açık kaldıysa son fiyattan kapat\n",
        "    if position == 1:\n",
        "        row = df.iloc[-1]\n",
        "        pnl = (row['close'] - entry_price) / entry_price\n",
        "        gross_balance = balance * (1 + pnl)\n",
        "        fee = gross_balance * fee_rate\n",
        "        balance = gross_balance - fee\n",
        "        fee_paid += fee\n",
        "        equity = balance\n",
        "        equity_list[-1] = equity\n",
        "\n",
        "    df['sim_signal'] = signal_list\n",
        "    df['position'] = position_list\n",
        "    df['equity'] = equity_list\n",
        "    df['fee_total'] = fee_list\n",
        "\n",
        "    print(f\"Başlangıç Bakiye: {initial_balance:.2f} USDT\")\n",
        "    print(f\"Final Bakiye: {equity_list[-1]:.2f} USDT\")\n",
        "    print(f\"Toplam Fee: {fee_paid:.2f} USDT\")\n",
        "    print(f\"Toplam İşlem Sayısı: {sum(1 for s in signal_list if s != 0)}\")\n",
        "\n",
        "    return equity_list[-1], fee_paid, df\n"
      ],
      "metadata": {
        "id": "nGxV6FchrSxs"
      },
      "execution_count": null,
      "outputs": []
    },
    {
      "cell_type": "code",
      "source": [
        "final_balance, total_fee, result_df = buy_pressure_dominance_backtest(one_week, ratio_threshold=0.7)"
      ],
      "metadata": {
        "colab": {
          "base_uri": "https://localhost:8080/"
        },
        "id": "0SpNOBx5rVg0",
        "outputId": "e234da58-f66b-42fc-9ea3-fc0a54314b37"
      },
      "execution_count": null,
      "outputs": [
        {
          "output_type": "stream",
          "name": "stdout",
          "text": [
            "Başlangıç Bakiye: 100.00 USDT\n",
            "Final Bakiye: 44.95 USDT\n",
            "Toplam Fee: 56.13 USDT\n",
            "Toplam İşlem Sayısı: 1494\n"
          ]
        }
      ]
    },
    {
      "cell_type": "code",
      "source": [
        "final_balance, total_fee, result_df = buy_pressure_dominance_backtest(five_month, ratio_threshold=0.7)"
      ],
      "metadata": {
        "colab": {
          "base_uri": "https://localhost:8080/"
        },
        "id": "xNgYgQEGrXjU",
        "outputId": "d201e331-7e70-4bb9-e347-8af48c08e10f"
      },
      "execution_count": null,
      "outputs": [
        {
          "output_type": "stream",
          "name": "stdout",
          "text": [
            "Başlangıç Bakiye: 100.00 USDT\n",
            "Final Bakiye: 0.00 USDT\n",
            "Toplam Fee: 97.32 USDT\n",
            "Toplam İşlem Sayısı: 22890\n"
          ]
        }
      ]
    },
    {
      "cell_type": "code",
      "source": [
        "final_balance, total_fee, result_df = buy_pressure_dominance_backtest(two_years, ratio_threshold=0.7)"
      ],
      "metadata": {
        "colab": {
          "base_uri": "https://localhost:8080/"
        },
        "id": "F50uHTHWrZ6k",
        "outputId": "88dcae56-61f9-415e-c607-7e8b6d630691"
      },
      "execution_count": null,
      "outputs": [
        {
          "output_type": "stream",
          "name": "stdout",
          "text": [
            "Başlangıç Bakiye: 100.00 USDT\n",
            "Final Bakiye: 0.00 USDT\n",
            "Toplam Fee: 101.49 USDT\n",
            "Toplam İşlem Sayısı: 128305\n"
          ]
        }
      ]
    },
    {
      "cell_type": "markdown",
      "source": [
        "# Break of High Volume"
      ],
      "metadata": {
        "id": "EiP3dQyaaZKb"
      }
    },
    {
      "cell_type": "code",
      "source": [
        "def break_of_high_volume_confirm_backtest(\n",
        "    df, lookback=20, fee_rate=0.001, initial_balance=100\n",
        "):\n",
        "    \"\"\"\n",
        "    Break of High with Volume Confirm stratejisi için backtest fonksiyonu (long only).\n",
        "    - AL: Fiyat, son 'lookback' barın en yükseğini yukarı kırarsa VE hacim, son 'lookback' ortalamasının üstünde ise\n",
        "    - SAT: Fiyat, son 'lookback' barın en düşüğünü aşağı kırarsa (stop)\n",
        "    \"\"\"\n",
        "\n",
        "    df = df.copy().reset_index(drop=True)\n",
        "    df['signal'] = 0\n",
        "\n",
        "    for i in range(lookback, len(df)):\n",
        "        high_window = df['high'][i-lookback:i]\n",
        "        low_window = df['low'][i-lookback:i]\n",
        "        volume_window = df['volume'][i-lookback:i]\n",
        "\n",
        "        # AL: Yeni en yüksek + hacim ortalama üstü\n",
        "        if (\n",
        "            df['close'][i] > high_window.max()\n",
        "            and df['volume'][i] > volume_window.mean()\n",
        "        ):\n",
        "            df.at[i, 'signal'] = 1\n",
        "\n",
        "        # SAT: Yeni en düşük\n",
        "        elif df['close'][i] < low_window.min():\n",
        "            df.at[i, 'signal'] = -1\n",
        "\n",
        "    balance = initial_balance\n",
        "    position = 0\n",
        "    entry_price = 0\n",
        "    fee_paid = 0\n",
        "\n",
        "    equity_list = []\n",
        "    position_list = []\n",
        "    signal_list = []\n",
        "    fee_list = []\n",
        "\n",
        "    for i in range(len(df)):\n",
        "        row = df.iloc[i]\n",
        "        signal = row['signal']\n",
        "\n",
        "        if signal == 1 and position == 0:  # AL\n",
        "            entry_price = row['close']\n",
        "            fee = balance * fee_rate\n",
        "            balance -= fee\n",
        "            fee_paid += fee\n",
        "            position = 1\n",
        "\n",
        "        elif signal == -1 and position == 1:  # SAT\n",
        "            pnl = (row['close'] - entry_price) / entry_price\n",
        "            gross_balance = balance * (1 + pnl)\n",
        "            fee = gross_balance * fee_rate\n",
        "            balance = gross_balance - fee\n",
        "            fee_paid += fee\n",
        "            position = 0\n",
        "\n",
        "        equity = balance\n",
        "        if position == 1:\n",
        "            equity = balance * (row['close'] / entry_price)\n",
        "\n",
        "        signal_list.append(signal)\n",
        "        position_list.append(position)\n",
        "        equity_list.append(equity)\n",
        "        fee_list.append(fee_paid)\n",
        "\n",
        "    # Pozisyon açık kaldıysa son fiyattan kapat\n",
        "    if position == 1:\n",
        "        row = df.iloc[-1]\n",
        "        pnl = (row['close'] - entry_price) / entry_price\n",
        "        gross_balance = balance * (1 + pnl)\n",
        "        fee = gross_balance * fee_rate\n",
        "        balance = gross_balance - fee\n",
        "        fee_paid += fee\n",
        "        equity = balance\n",
        "        equity_list[-1] = equity\n",
        "\n",
        "    df['sim_signal'] = signal_list\n",
        "    df['position'] = position_list\n",
        "    df['equity'] = equity_list\n",
        "    df['fee_total'] = fee_list\n",
        "\n",
        "    print(f\"Başlangıç Bakiye: {initial_balance:.2f} USDT\")\n",
        "    print(f\"Final Bakiye: {equity_list[-1]:.2f} USDT\")\n",
        "    print(f\"Toplam Fee: {fee_paid:.2f} USDT\")\n",
        "    print(f\"Toplam İşlem Sayısı: {sum(1 for s in signal_list if s != 0)}\")\n",
        "\n",
        "    return equity_list[-1], fee_paid, df\n"
      ],
      "metadata": {
        "id": "58kzbNisrjjk"
      },
      "execution_count": null,
      "outputs": []
    },
    {
      "cell_type": "code",
      "source": [
        "final_balance, total_fee, result_df = break_of_high_volume_confirm_backtest(one_week, lookback=20)"
      ],
      "metadata": {
        "colab": {
          "base_uri": "https://localhost:8080/"
        },
        "id": "NQ7iLdMgrmWM",
        "outputId": "efae8d39-388c-480f-dabd-dc82924faa18"
      },
      "execution_count": null,
      "outputs": [
        {
          "output_type": "stream",
          "name": "stdout",
          "text": [
            "Başlangıç Bakiye: 100.00 USDT\n",
            "Final Bakiye: 97.29 USDT\n",
            "Toplam Fee: 5.81 USDT\n",
            "Toplam İşlem Sayısı: 294\n"
          ]
        }
      ]
    },
    {
      "cell_type": "code",
      "source": [
        "final_balance, total_fee, result_df = break_of_high_volume_confirm_backtest(five_month, lookback=20)"
      ],
      "metadata": {
        "colab": {
          "base_uri": "https://localhost:8080/"
        },
        "id": "dqNlB8HBrolc",
        "outputId": "dbcc9c81-f0e0-4575-88e8-9a463c2adb77"
      },
      "execution_count": null,
      "outputs": [
        {
          "output_type": "stream",
          "name": "stdout",
          "text": [
            "Başlangıç Bakiye: 100.00 USDT\n",
            "Final Bakiye: 49.79 USDT\n",
            "Toplam Fee: 63.48 USDT\n",
            "Toplam İşlem Sayısı: 4795\n"
          ]
        }
      ]
    },
    {
      "cell_type": "code",
      "source": [
        "final_balance, total_fee, result_df = break_of_high_volume_confirm_backtest(two_years, lookback=20)"
      ],
      "metadata": {
        "colab": {
          "base_uri": "https://localhost:8080/"
        },
        "id": "vhbMqRAYrrq0",
        "outputId": "bc4ce784-0928-4d68-82c2-dee50db13dbd"
      },
      "execution_count": null,
      "outputs": [
        {
          "output_type": "stream",
          "name": "stdout",
          "text": [
            "Başlangıç Bakiye: 100.00 USDT\n",
            "Final Bakiye: 1.05 USDT\n",
            "Toplam Fee: 110.40 USDT\n",
            "Toplam İşlem Sayısı: 26026\n"
          ]
        }
      ]
    },
    {
      "cell_type": "markdown",
      "source": [
        "# Trade Count Spike"
      ],
      "metadata": {
        "id": "aOUSXB6Qabyi"
      }
    },
    {
      "cell_type": "code",
      "source": [
        "def trade_count_spike_backtest(\n",
        "    df, lookback=20, spike_multiplier=2.0, fee_rate=0.001, initial_balance=100\n",
        "):\n",
        "    \"\"\"\n",
        "    Trade Count Spike stratejisi için backtest fonksiyonu (long only).\n",
        "    - AL: num_trades, son 'lookback' ortalamasının 'spike_multiplier' katını aşarsa\n",
        "    - SAT: num_trades tekrar ortalamanın altına inerse veya başka bir çıkış kuralı varsa\n",
        "    \"\"\"\n",
        "    df = df.copy().reset_index(drop=True)\n",
        "    df['signal'] = 0\n",
        "\n",
        "    for i in range(lookback, len(df)):\n",
        "        trades_window = df['num_trades'][i - lookback : i]\n",
        "        trades_mean = trades_window.mean()\n",
        "        current_trades = df['num_trades'][i]\n",
        "\n",
        "        # AL: Spike tespit edilirse\n",
        "        if current_trades > trades_mean * spike_multiplier:\n",
        "            df.at[i, 'signal'] = 1\n",
        "\n",
        "        # SAT: Tekrar ortalamanın altına inerse (ve pozisyon açıksa)\n",
        "        elif current_trades < trades_mean and df['signal'][i-1] != 0:\n",
        "            df.at[i, 'signal'] = -1\n",
        "\n",
        "    balance = initial_balance\n",
        "    position = 0\n",
        "    entry_price = 0\n",
        "    fee_paid = 0\n",
        "\n",
        "    equity_list = []\n",
        "    position_list = []\n",
        "    signal_list = []\n",
        "    fee_list = []\n",
        "\n",
        "    for i in range(len(df)):\n",
        "        row = df.iloc[i]\n",
        "        signal = row['signal']\n",
        "\n",
        "        if signal == 1 and position == 0:  # AL\n",
        "            entry_price = row['close']\n",
        "            fee = balance * fee_rate\n",
        "            balance -= fee\n",
        "            fee_paid += fee\n",
        "            position = 1\n",
        "\n",
        "        elif signal == -1 and position == 1:  # SAT\n",
        "            pnl = (row['close'] - entry_price) / entry_price\n",
        "            gross_balance = balance * (1 + pnl)\n",
        "            fee = gross_balance * fee_rate\n",
        "            balance = gross_balance - fee\n",
        "            fee_paid += fee\n",
        "            position = 0\n",
        "\n",
        "        equity = balance\n",
        "        if position == 1:\n",
        "            equity = balance * (row['close'] / entry_price)\n",
        "\n",
        "        signal_list.append(signal)\n",
        "        position_list.append(position)\n",
        "        equity_list.append(equity)\n",
        "        fee_list.append(fee_paid)\n",
        "\n",
        "    # Pozisyon açık kaldıysa son fiyattan kapat\n",
        "    if position == 1:\n",
        "        row = df.iloc[-1]\n",
        "        pnl = (row['close'] - entry_price) / entry_price\n",
        "        gross_balance = balance * (1 + pnl)\n",
        "        fee = gross_balance * fee_rate\n",
        "        balance = gross_balance - fee\n",
        "        fee_paid += fee\n",
        "        equity = balance\n",
        "        equity_list[-1] = equity\n",
        "\n",
        "    df['sim_signal'] = signal_list\n",
        "    df['position'] = position_list\n",
        "    df['equity'] = equity_list\n",
        "    df['fee_total'] = fee_list\n",
        "\n",
        "    print(f\"Başlangıç Bakiye: {initial_balance:.2f} USDT\")\n",
        "    print(f\"Final Bakiye: {equity_list[-1]:.2f} USDT\")\n",
        "    print(f\"Toplam Fee: {fee_paid:.2f} USDT\")\n",
        "    print(f\"Toplam İşlem Sayısı: {sum(1 for s in signal_list if s != 0)}\")\n",
        "\n",
        "    return equity_list[-1], fee_paid, df\n"
      ],
      "metadata": {
        "id": "QTsufyADr0lT"
      },
      "execution_count": null,
      "outputs": []
    },
    {
      "cell_type": "code",
      "source": [
        "final_balance, total_fee, result_df = trade_count_spike_backtest(one_week, lookback=20, spike_multiplier=2.0)\n"
      ],
      "metadata": {
        "colab": {
          "base_uri": "https://localhost:8080/"
        },
        "id": "d666BsSIr15r",
        "outputId": "0ced89e6-3d10-475f-f038-7331f2367935"
      },
      "execution_count": null,
      "outputs": [
        {
          "output_type": "stream",
          "name": "stdout",
          "text": [
            "Başlangıç Bakiye: 100.00 USDT\n",
            "Final Bakiye: 92.50 USDT\n",
            "Toplam Fee: 15.06 USDT\n",
            "Toplam İşlem Sayısı: 447\n"
          ]
        }
      ]
    },
    {
      "cell_type": "code",
      "source": [
        "final_balance, total_fee, result_df = trade_count_spike_backtest(five_month, lookback=20, spike_multiplier=2.0)\n"
      ],
      "metadata": {
        "colab": {
          "base_uri": "https://localhost:8080/"
        },
        "id": "krg1q_rWr5WD",
        "outputId": "4cc84173-7ff8-492a-f191-f21d5c947317"
      },
      "execution_count": null,
      "outputs": [
        {
          "output_type": "stream",
          "name": "stdout",
          "text": [
            "Başlangıç Bakiye: 100.00 USDT\n",
            "Final Bakiye: 24.24 USDT\n",
            "Toplam Fee: 83.26 USDT\n",
            "Toplam İşlem Sayısı: 4936\n"
          ]
        }
      ]
    },
    {
      "cell_type": "code",
      "source": [
        "final_balance, total_fee, result_df = trade_count_spike_backtest(two_years, lookback=20, spike_multiplier=2.0)\n"
      ],
      "metadata": {
        "colab": {
          "base_uri": "https://localhost:8080/"
        },
        "id": "Coexhm9Xr7Ib",
        "outputId": "3c8ccbd8-eb62-484e-9b30-79444f1fcc5c"
      },
      "execution_count": null,
      "outputs": [
        {
          "output_type": "stream",
          "name": "stdout",
          "text": [
            "Başlangıç Bakiye: 100.00 USDT\n",
            "Final Bakiye: 0.03 USDT\n",
            "Toplam Fee: 111.56 USDT\n",
            "Toplam İşlem Sayısı: 30491\n"
          ]
        }
      ]
    },
    {
      "cell_type": "markdown",
      "source": [
        "# Doji Candle Reversal"
      ],
      "metadata": {
        "id": "t1SQdmNZaemT"
      }
    },
    {
      "cell_type": "code",
      "source": [
        "def doji_candle_reversal_backtest(\n",
        "    df, doji_thresh=0.1, fee_rate=0.001, initial_balance=100\n",
        "):\n",
        "    \"\"\"\n",
        "    Doji Candle Reversal backtest fonksiyonu (long only).\n",
        "    - AL: Downtrend + doji + ardından yeşil mum\n",
        "    - SAT: Pozisyon açıkken doji + ardından kırmızı mum\n",
        "    doji_thresh: Doji tespiti için gövdenin toplam bara oranı eşiği (örn: 0.1)\n",
        "    \"\"\"\n",
        "    df = df.copy().reset_index(drop=True)\n",
        "    df['body'] = (df['close'] - df['open']).abs()\n",
        "    df['range'] = (df['high'] - df['low']).replace(0, 1e-9)\n",
        "    df['is_doji'] = (df['body'] / df['range']) < doji_thresh\n",
        "\n",
        "    df['signal'] = 0\n",
        "\n",
        "    for i in range(2, len(df)):\n",
        "        # AL: Önceki bar doji, ondan önceki kırmızı (düşüş), mevcut bar yeşil\n",
        "        if (\n",
        "            df['is_doji'][i-1]\n",
        "            and df['close'][i-2] < df['open'][i-2]  # önceki düşüş\n",
        "            and df['close'][i] > df['open'][i]      # mevcut yeşil\n",
        "        ):\n",
        "            df.at[i, 'signal'] = 1\n",
        "        # SAT: Pozisyon açıkken, önceki bar doji, ondan önceki yeşil (yükseliş), mevcut bar kırmızı\n",
        "        elif (\n",
        "            df['is_doji'][i-1]\n",
        "            and df['close'][i-2] > df['open'][i-2]  # önceki yükseliş\n",
        "            and df['close'][i] < df['open'][i]      # mevcut kırmızı\n",
        "        ):\n",
        "            df.at[i, 'signal'] = -1\n",
        "\n",
        "    balance = initial_balance\n",
        "    position = 0\n",
        "    entry_price = 0\n",
        "    fee_paid = 0\n",
        "\n",
        "    equity_list = []\n",
        "    position_list = []\n",
        "    signal_list = []\n",
        "    fee_list = []\n",
        "\n",
        "    for i in range(len(df)):\n",
        "        row = df.iloc[i]\n",
        "        signal = row['signal']\n",
        "\n",
        "        if signal == 1 and position == 0:  # AL\n",
        "            entry_price = row['close']\n",
        "            fee = balance * fee_rate\n",
        "            balance -= fee\n",
        "            fee_paid += fee\n",
        "            position = 1\n",
        "\n",
        "        elif signal == -1 and position == 1:  # SAT\n",
        "            pnl = (row['close'] - entry_price) / entry_price\n",
        "            gross_balance = balance * (1 + pnl)\n",
        "            fee = gross_balance * fee_rate\n",
        "            balance = gross_balance - fee\n",
        "            fee_paid += fee\n",
        "            position = 0\n",
        "\n",
        "        equity = balance\n",
        "        if position == 1:\n",
        "            equity = balance * (row['close'] / entry_price)\n",
        "\n",
        "        signal_list.append(signal)\n",
        "        position_list.append(position)\n",
        "        equity_list.append(equity)\n",
        "        fee_list.append(fee_paid)\n",
        "\n",
        "    # Pozisyon açık kaldıysa son fiyattan kapat\n",
        "    if position == 1:\n",
        "        row = df.iloc[-1]\n",
        "        pnl = (row['close'] - entry_price) / entry_price\n",
        "        gross_balance = balance * (1 + pnl)\n",
        "        fee = gross_balance * fee_rate\n",
        "        balance = gross_balance - fee\n",
        "        fee_paid += fee\n",
        "        equity = balance\n",
        "        equity_list[-1] = equity\n",
        "\n",
        "    df['sim_signal'] = signal_list\n",
        "    df['position'] = position_list\n",
        "    df['equity'] = equity_list\n",
        "    df['fee_total'] = fee_list\n",
        "\n",
        "    print(f\"Başlangıç Bakiye: {initial_balance:.2f} USDT\")\n",
        "    print(f\"Final Bakiye: {equity_list[-1]:.2f} USDT\")\n",
        "    print(f\"Toplam Fee: {fee_paid:.2f} USDT\")\n",
        "    print(f\"Toplam İşlem Sayısı: {sum(1 for s in signal_list if s != 0)}\")\n",
        "\n",
        "    return equity_list[-1], fee_paid, df\n"
      ],
      "metadata": {
        "id": "8VKeKWcAsEkf"
      },
      "execution_count": null,
      "outputs": []
    },
    {
      "cell_type": "code",
      "source": [
        "final_balance, total_fee, result_df = doji_candle_reversal_backtest(one_week, doji_thresh=0.1)\n"
      ],
      "metadata": {
        "colab": {
          "base_uri": "https://localhost:8080/"
        },
        "id": "ncAUyvpIsFxr",
        "outputId": "650a2c59-cc72-419e-fbf3-a3c2bf14fc8a"
      },
      "execution_count": null,
      "outputs": [
        {
          "output_type": "stream",
          "name": "stdout",
          "text": [
            "Başlangıç Bakiye: 100.00 USDT\n",
            "Final Bakiye: 96.15 USDT\n",
            "Toplam Fee: 3.86 USDT\n",
            "Toplam İşlem Sayısı: 89\n"
          ]
        }
      ]
    },
    {
      "cell_type": "code",
      "source": [
        "final_balance, total_fee, result_df = doji_candle_reversal_backtest(five_month, doji_thresh=0.1)\n"
      ],
      "metadata": {
        "colab": {
          "base_uri": "https://localhost:8080/"
        },
        "id": "ymgiSIcKsHkj",
        "outputId": "81dc6704-4f9e-40aa-e107-5368cd46f231"
      },
      "execution_count": null,
      "outputs": [
        {
          "output_type": "stream",
          "name": "stdout",
          "text": [
            "Başlangıç Bakiye: 100.00 USDT\n",
            "Final Bakiye: 56.60 USDT\n",
            "Toplam Fee: 53.17 USDT\n",
            "Toplam İşlem Sayısı: 1249\n"
          ]
        }
      ]
    },
    {
      "cell_type": "code",
      "source": [
        "final_balance, total_fee, result_df = doji_candle_reversal_backtest(two_years, doji_thresh=0.1)\n"
      ],
      "metadata": {
        "colab": {
          "base_uri": "https://localhost:8080/"
        },
        "id": "Je2tfQGGsKMT",
        "outputId": "f8f193e7-0b2d-4281-aab0-3a46191fabd9"
      },
      "execution_count": null,
      "outputs": [
        {
          "output_type": "stream",
          "name": "stdout",
          "text": [
            "Başlangıç Bakiye: 100.00 USDT\n",
            "Final Bakiye: 5.55 USDT\n",
            "Toplam Fee: 125.57 USDT\n",
            "Toplam İşlem Sayısı: 7328\n"
          ]
        }
      ]
    },
    {
      "cell_type": "markdown",
      "source": [
        "# VWAP"
      ],
      "metadata": {
        "id": "A_zc5m81ahAq"
      }
    },
    {
      "cell_type": "code",
      "source": [
        "def vwap_reversion_backtest(\n",
        "    df, deviation=0.01, fee_rate=0.001, initial_balance=100\n",
        "):\n",
        "    \"\"\"\n",
        "    VWAP Reversion stratejisi için backtest fonksiyonu (long only).\n",
        "    - AL: Fiyat VWAP'ın 'deviation' oranı altına düştükten sonra tekrar üstüne çıkarsa (geri dönüş)\n",
        "    - SAT: Fiyat VWAP'ın 'deviation' oranı üstüne çıktıktan sonra tekrar altına inerse\n",
        "    \"\"\"\n",
        "    df = df.copy().reset_index(drop=True)\n",
        "\n",
        "    # VWAP hesapla\n",
        "    df['cum_vol_x_price'] = (df['close'] * df['volume']).cumsum()\n",
        "    df['cum_volume'] = df['volume'].cumsum()\n",
        "    df['VWAP'] = df['cum_vol_x_price'] / df['cum_volume']\n",
        "\n",
        "    df['signal'] = 0\n",
        "\n",
        "    for i in range(1, len(df)):\n",
        "        vwap = df.at[i, 'VWAP']\n",
        "        close_now = df.at[i, 'close']\n",
        "        close_prev = df.at[i-1, 'close']\n",
        "        vwap_prev = df.at[i-1, 'VWAP']\n",
        "\n",
        "        # AL: Fiyat, VWAP'ın belirli bir oran altından tekrar üstüne çıkarsa\n",
        "        if (\n",
        "            close_now > vwap * (1 - deviation)\n",
        "            and close_prev <= vwap_prev * (1 - deviation)\n",
        "        ):\n",
        "            df.at[i, 'signal'] = 1\n",
        "        # SAT: Fiyat, VWAP'ın belirli bir oran üstünden tekrar altına inerse\n",
        "        elif (\n",
        "            close_now < vwap * (1 + deviation)\n",
        "            and close_prev >= vwap_prev * (1 + deviation)\n",
        "        ):\n",
        "            df.at[i, 'signal'] = -1\n",
        "\n",
        "    balance = initial_balance\n",
        "    position = 0\n",
        "    entry_price = 0\n",
        "    fee_paid = 0\n",
        "\n",
        "    equity_list = []\n",
        "    position_list = []\n",
        "    signal_list = []\n",
        "    fee_list = []\n",
        "\n",
        "    for i in range(len(df)):\n",
        "        row = df.iloc[i]\n",
        "        signal = row['signal']\n",
        "\n",
        "        if signal == 1 and position == 0:  # AL\n",
        "            entry_price = row['close']\n",
        "            fee = balance * fee_rate\n",
        "            balance -= fee\n",
        "            fee_paid += fee\n",
        "            position = 1\n",
        "\n",
        "        elif signal == -1 and position == 1:  # SAT\n",
        "            pnl = (row['close'] - entry_price) / entry_price\n",
        "            gross_balance = balance * (1 + pnl)\n",
        "            fee = gross_balance * fee_rate\n",
        "            balance = gross_balance - fee\n",
        "            fee_paid += fee\n",
        "            position = 0\n",
        "\n",
        "        equity = balance\n",
        "        if position == 1:\n",
        "            equity = balance * (row['close'] / entry_price)\n",
        "\n",
        "        signal_list.append(signal)\n",
        "        position_list.append(position)\n",
        "        equity_list.append(equity)\n",
        "        fee_list.append(fee_paid)\n",
        "\n",
        "    # Pozisyon açık kaldıysa son fiyattan kapat\n",
        "    if position == 1:\n",
        "        row = df.iloc[-1]\n",
        "        pnl = (row['close'] - entry_price) / entry_price\n",
        "        gross_balance = balance * (1 + pnl)\n",
        "        fee = gross_balance * fee_rate\n",
        "        balance = gross_balance - fee\n",
        "        fee_paid += fee\n",
        "        equity = balance\n",
        "        equity_list[-1] = equity\n",
        "\n",
        "    df['sim_signal'] = signal_list\n",
        "    df['position'] = position_list\n",
        "    df['equity'] = equity_list\n",
        "    df['fee_total'] = fee_list\n",
        "\n",
        "    print(f\"Başlangıç Bakiye: {initial_balance:.2f} USDT\")\n",
        "    print(f\"Final Bakiye: {equity_list[-1]:.2f} USDT\")\n",
        "    print(f\"Toplam Fee: {fee_paid:.2f} USDT\")\n",
        "    print(f\"Toplam İşlem Sayısı: {sum(1 for s in signal_list if s != 0)}\")\n",
        "\n",
        "    return equity_list[-1], fee_paid, df\n"
      ],
      "metadata": {
        "id": "yKihzbA8sUs7"
      },
      "execution_count": null,
      "outputs": []
    },
    {
      "cell_type": "code",
      "source": [
        "final_balance, total_fee, result_df = vwap_reversion_backtest(one_week, deviation=0.01)\n"
      ],
      "metadata": {
        "colab": {
          "base_uri": "https://localhost:8080/"
        },
        "id": "TQ_hMXgxsXFk",
        "outputId": "b5401156-e81c-490a-f5e1-4109a5438e30"
      },
      "execution_count": null,
      "outputs": [
        {
          "output_type": "stream",
          "name": "stdout",
          "text": [
            "Başlangıç Bakiye: 100.00 USDT\n",
            "Final Bakiye: 101.00 USDT\n",
            "Toplam Fee: 0.20 USDT\n",
            "Toplam İşlem Sayısı: 32\n"
          ]
        }
      ]
    },
    {
      "cell_type": "code",
      "source": [
        "final_balance, total_fee, result_df = vwap_reversion_backtest(five_month, deviation=0.01)\n"
      ],
      "metadata": {
        "colab": {
          "base_uri": "https://localhost:8080/"
        },
        "id": "6U_NX9nFsYvb",
        "outputId": "c08f1f76-ce86-4db7-cf02-69a83674818e"
      },
      "execution_count": null,
      "outputs": [
        {
          "output_type": "stream",
          "name": "stdout",
          "text": [
            "Başlangıç Bakiye: 100.00 USDT\n",
            "Final Bakiye: 95.34 USDT\n",
            "Toplam Fee: 1.01 USDT\n",
            "Toplam İşlem Sayısı: 129\n"
          ]
        }
      ]
    },
    {
      "cell_type": "code",
      "source": [
        "final_balance, total_fee, result_df = vwap_reversion_backtest(two_years, deviation=0.01)\n"
      ],
      "metadata": {
        "colab": {
          "base_uri": "https://localhost:8080/"
        },
        "id": "5dY66gq9sbK7",
        "outputId": "b3c4874f-ca1a-428a-bad6-29803979c778"
      },
      "execution_count": null,
      "outputs": [
        {
          "output_type": "stream",
          "name": "stdout",
          "text": [
            "Başlangıç Bakiye: 100.00 USDT\n",
            "Final Bakiye: 107.81 USDT\n",
            "Toplam Fee: 1.46 USDT\n",
            "Toplam İşlem Sayısı: 113\n"
          ]
        }
      ]
    },
    {
      "cell_type": "markdown",
      "source": [
        "# Openin Range"
      ],
      "metadata": {
        "id": "Hng_vX9Aai4G"
      }
    },
    {
      "cell_type": "code",
      "source": [
        "def opening_range_breakout_backtest(\n",
        "    df, opening_range=5, fee_rate=0.001, initial_balance=100\n",
        "):\n",
        "    \"\"\"\n",
        "    Opening Range Breakout (ORB) stratejisi için backtest fonksiyonu (long only).\n",
        "    - opening_range: Açılış aralığını belirleyen bar sayısı (örn: ilk 5 bar)\n",
        "    - AL: Fiyat açılış aralığının üstüne çıkar ve önceki bara göre üstte kapanırsa\n",
        "    - SAT: Fiyat açılış aralığının altına düşerse (stop mantığı)\n",
        "    \"\"\"\n",
        "    df = df.copy().reset_index(drop=True)\n",
        "    df['signal'] = 0\n",
        "\n",
        "    # Açılış aralığını belirle\n",
        "    opening_high = df['high'][:opening_range].max()\n",
        "    opening_low = df['low'][:opening_range].min()\n",
        "\n",
        "    # Sinyal üretimi\n",
        "    for i in range(opening_range, len(df)):\n",
        "        # AL: Fiyat açılış yüksekliğini yukarı kırarsa ve önceki bara göre yukarıda kapanırsa\n",
        "        if (\n",
        "            df['close'][i] > opening_high\n",
        "            and df['close'][i-1] <= opening_high\n",
        "        ):\n",
        "            df.at[i, 'signal'] = 1\n",
        "        # SAT: Fiyat açılış düşük seviyesinin altına düşerse (stop)\n",
        "        elif df['close'][i] < opening_low:\n",
        "            df.at[i, 'signal'] = -1\n",
        "\n",
        "    balance = initial_balance\n",
        "    position = 0\n",
        "    entry_price = 0\n",
        "    fee_paid = 0\n",
        "\n",
        "    equity_list = []\n",
        "    position_list = []\n",
        "    signal_list = []\n",
        "    fee_list = []\n",
        "\n",
        "    for i in range(len(df)):\n",
        "        row = df.iloc[i]\n",
        "        signal = row['signal']\n",
        "\n",
        "        if signal == 1 and position == 0:  # AL\n",
        "            entry_price = row['close']\n",
        "            fee = balance * fee_rate\n",
        "            balance -= fee\n",
        "            fee_paid += fee\n",
        "            position = 1\n",
        "\n",
        "        elif signal == -1 and position == 1:  # SAT\n",
        "            pnl = (row['close'] - entry_price) / entry_price\n",
        "            gross_balance = balance * (1 + pnl)\n",
        "            fee = gross_balance * fee_rate\n",
        "            balance = gross_balance - fee\n",
        "            fee_paid += fee\n",
        "            position = 0\n",
        "\n",
        "        equity = balance\n",
        "        if position == 1:\n",
        "            equity = balance * (row['close'] / entry_price)\n",
        "\n",
        "        signal_list.append(signal)\n",
        "        position_list.append(position)\n",
        "        equity_list.append(equity)\n",
        "        fee_list.append(fee_paid)\n",
        "\n",
        "    # Pozisyon açık kaldıysa son fiyattan kapat\n",
        "    if position == 1:\n",
        "        row = df.iloc[-1]\n",
        "        pnl = (row['close'] - entry_price) / entry_price\n",
        "        gross_balance = balance * (1 + pnl)\n",
        "        fee = gross_balance * fee_rate\n",
        "        balance = gross_balance - fee\n",
        "        fee_paid += fee\n",
        "        equity = balance\n",
        "        equity_list[-1] = equity\n",
        "\n",
        "    df['sim_signal'] = signal_list\n",
        "    df['position'] = position_list\n",
        "    df['equity'] = equity_list\n",
        "    df['fee_total'] = fee_list\n",
        "\n",
        "    print(f\"Açılış Aralığı: İlk {opening_range} bar\")\n",
        "    print(f\"Opening High: {opening_high:.2f}, Opening Low: {opening_low:.2f}\")\n",
        "    print(f\"Başlangıç Bakiye: {initial_balance:.2f} USDT\")\n",
        "    print(f\"Final Bakiye: {equity_list[-1]:.2f} USDT\")\n",
        "    print(f\"Toplam Fee: {fee_paid:.2f} USDT\")\n",
        "    print(f\"Toplam İşlem Sayısı: {sum(1 for s in signal_list if s != 0)}\")\n",
        "\n",
        "    return equity_list[-1], fee_paid, df\n"
      ],
      "metadata": {
        "id": "hbGPGnBxsdWj"
      },
      "execution_count": null,
      "outputs": []
    },
    {
      "cell_type": "code",
      "source": [
        "final_balance, total_fee, result_df = opening_range_breakout_backtest(one_week, opening_range=5)\n"
      ],
      "metadata": {
        "colab": {
          "base_uri": "https://localhost:8080/"
        },
        "id": "PzveH-Ypse0L",
        "outputId": "5e005d1c-aee6-4b01-fa14-6ce1a5d33d76"
      },
      "execution_count": null,
      "outputs": [
        {
          "output_type": "stream",
          "name": "stdout",
          "text": [
            "Açılış Aralığı: İlk 5 bar\n",
            "Opening High: 94331.05, Opening Low: 94130.43\n",
            "Başlangıç Bakiye: 100.00 USDT\n",
            "Final Bakiye: 102.52 USDT\n",
            "Toplam Fee: 2.14 USDT\n",
            "Toplam İşlem Sayısı: 134\n"
          ]
        }
      ]
    },
    {
      "cell_type": "code",
      "source": [
        "final_balance, total_fee, result_df = opening_range_breakout_backtest(five_month, opening_range=5)\n"
      ],
      "metadata": {
        "colab": {
          "base_uri": "https://localhost:8080/"
        },
        "id": "_2mbxWkMsgY4",
        "outputId": "9424a8aa-9f7e-4ff7-a67e-8291e5b600f5"
      },
      "execution_count": null,
      "outputs": [
        {
          "output_type": "stream",
          "name": "stdout",
          "text": [
            "Açılış Aralığı: İlk 5 bar\n",
            "Opening High: 93866.00, Opening Low: 93536.52\n",
            "Başlangıç Bakiye: 100.00 USDT\n",
            "Final Bakiye: 88.34 USDT\n",
            "Toplam Fee: 4.67 USDT\n",
            "Toplam İşlem Sayısı: 17381\n"
          ]
        }
      ]
    },
    {
      "cell_type": "code",
      "source": [
        "final_balance, total_fee, result_df = opening_range_breakout_backtest(two_years, opening_range=5)\n"
      ],
      "metadata": {
        "colab": {
          "base_uri": "https://localhost:8080/"
        },
        "id": "liiuYSFXsiZb",
        "outputId": "8a01bf0f-67ee-4a9b-ce8a-2193d500379d"
      },
      "execution_count": null,
      "outputs": [
        {
          "output_type": "stream",
          "name": "stdout",
          "text": [
            "Açılış Aralığı: İlk 5 bar\n",
            "Opening High: 27452.35, Opening Low: 27367.19\n",
            "Başlangıç Bakiye: 100.00 USDT\n",
            "Final Bakiye: 292.81 USDT\n",
            "Toplam Fee: 4.02 USDT\n",
            "Toplam İşlem Sayısı: 23237\n"
          ]
        }
      ]
    },
    {
      "cell_type": "code",
      "source": [
        "def quote_to_base_ratio_spike_backtest(\n",
        "    df, lookback=20, spike_multiplier=1.5, fee_rate=0.001, initial_balance=100\n",
        "):\n",
        "    \"\"\"\n",
        "    Quote-to-Base Ratio Spike stratejisi için backtest fonksiyonu (long only).\n",
        "    - AL: quote-to-base ratio son 'lookback' ortalamasının 'spike_multiplier' katını aşarsa\n",
        "    - SAT: Oran tekrar ortalamanın altına inerse\n",
        "    \"\"\"\n",
        "\n",
        "    df = df.copy().reset_index(drop=True)\n",
        "    df['qtb_ratio'] = df['quote_asset_volume'] / df['volume'].replace(0, 1e-9)\n",
        "    df['signal'] = 0\n",
        "\n",
        "    for i in range(lookback, len(df)):\n",
        "        ratio_window = df['qtb_ratio'][i-lookback:i]\n",
        "        ratio_mean = ratio_window.mean()\n",
        "        ratio_now = df['qtb_ratio'][i]\n",
        "\n",
        "        # AL: Spike var\n",
        "        if ratio_now > ratio_mean * spike_multiplier:\n",
        "            df.at[i, 'signal'] = 1\n",
        "        # SAT: Geriye döndü\n",
        "        elif ratio_now < ratio_mean:\n",
        "            df.at[i, 'signal'] = -1\n",
        "\n",
        "    balance = initial_balance\n",
        "    position = 0\n",
        "    entry_price = 0\n",
        "    fee_paid = 0\n",
        "\n",
        "    equity_list = []\n",
        "    position_list = []\n",
        "    signal_list = []\n",
        "    fee_list = []\n",
        "\n",
        "    for i in range(len(df)):\n",
        "        row = df.iloc[i]\n",
        "        signal = row['signal']\n",
        "\n",
        "        if signal == 1 and position == 0:  # AL\n",
        "            entry_price = row['close']\n",
        "            fee = balance * fee_rate\n",
        "            balance -= fee\n",
        "            fee_paid += fee\n",
        "            position = 1\n",
        "\n",
        "        elif signal == -1 and position == 1:  # SAT\n",
        "            pnl = (row['close'] - entry_price) / entry_price\n",
        "            gross_balance = balance * (1 + pnl)\n",
        "            fee = gross_balance * fee_rate\n",
        "            balance = gross_balance - fee\n",
        "            fee_paid += fee\n",
        "            position = 0\n",
        "\n",
        "        equity = balance\n",
        "        if position == 1:\n",
        "            equity = balance * (row['close'] / entry_price)\n",
        "\n",
        "        signal_list.append(signal)\n",
        "        position_list.append(position)\n",
        "        equity_list.append(equity)\n",
        "        fee_list.append(fee_paid)\n",
        "\n",
        "    # Pozisyon açık kaldıysa son fiyattan kapat\n",
        "    if position == 1:\n",
        "        row = df.iloc[-1]\n",
        "        pnl = (row['close'] - entry_price) / entry_price\n",
        "        gross_balance = balance * (1 + pnl)\n",
        "        fee = gross_balance * fee_rate\n",
        "        balance = gross_balance - fee\n",
        "        fee_paid += fee\n",
        "        equity = balance\n",
        "        equity_list[-1] = equity\n",
        "\n",
        "    df['sim_signal'] = signal_list\n",
        "    df['position'] = position_list\n",
        "    df['equity'] = equity_list\n",
        "    df['fee_total'] = fee_list\n",
        "\n",
        "    print(f\"Başlangıç Bakiye: {initial_balance:.2f} USDT\")\n",
        "    print(f\"Final Bakiye: {equity_list[-1]:.2f} USDT\")\n",
        "    print(f\"Toplam Fee: {fee_paid:.2f} USDT\")\n",
        "    print(f\"Toplam İşlem Sayısı: {sum(1 for s in signal_list if s != 0)}\")\n",
        "\n",
        "    return equity_list[-1], fee_paid, df\n"
      ],
      "metadata": {
        "id": "fsOpPiQrsqRb"
      },
      "execution_count": null,
      "outputs": []
    },
    {
      "cell_type": "code",
      "source": [
        "final_balance, total_fee, result_df = quote_to_base_ratio_spike_backtest(one_week, lookback=20, spike_multiplier=1.5)\n"
      ],
      "metadata": {
        "colab": {
          "base_uri": "https://localhost:8080/"
        },
        "id": "1oH4sqYZsuwz",
        "outputId": "2bf801db-4134-40ff-bace-0ddcbb7c6d78"
      },
      "execution_count": null,
      "outputs": [
        {
          "output_type": "stream",
          "name": "stdout",
          "text": [
            "Başlangıç Bakiye: 100.00 USDT\n",
            "Final Bakiye: 100.00 USDT\n",
            "Toplam Fee: 0.00 USDT\n",
            "Toplam İşlem Sayısı: 1063\n"
          ]
        }
      ]
    },
    {
      "cell_type": "code",
      "source": [
        "final_balance, total_fee, result_df = quote_to_base_ratio_spike_backtest(five_month, lookback=20, spike_multiplier=1.5)\n"
      ],
      "metadata": {
        "colab": {
          "base_uri": "https://localhost:8080/"
        },
        "id": "8JDfx3l5s2Zz",
        "outputId": "b98189c0-d626-4e67-afa6-e31ead926ac4"
      },
      "execution_count": null,
      "outputs": [
        {
          "output_type": "stream",
          "name": "stdout",
          "text": [
            "Başlangıç Bakiye: 100.00 USDT\n",
            "Final Bakiye: 100.00 USDT\n",
            "Toplam Fee: 0.00 USDT\n",
            "Toplam İşlem Sayısı: 17959\n"
          ]
        }
      ]
    },
    {
      "cell_type": "code",
      "source": [
        "final_balance, total_fee, result_df = quote_to_base_ratio_spike_backtest(two_years, lookback=20, spike_multiplier=1.5)\n"
      ],
      "metadata": {
        "colab": {
          "base_uri": "https://localhost:8080/"
        },
        "id": "MQ25_dEus4WV",
        "outputId": "66b22ba3-7965-492e-f2a0-4406551b141e"
      },
      "execution_count": null,
      "outputs": [
        {
          "output_type": "stream",
          "name": "stdout",
          "text": [
            "Başlangıç Bakiye: 100.00 USDT\n",
            "Final Bakiye: 100.00 USDT\n",
            "Toplam Fee: 0.00 USDT\n",
            "Toplam İşlem Sayısı: 101226\n"
          ]
        }
      ]
    },
    {
      "cell_type": "markdown",
      "source": [
        "# HOLD"
      ],
      "metadata": {
        "id": "0AgKx4jqa1fy"
      }
    },
    {
      "cell_type": "code",
      "source": [
        "def hold_strategy_backtest(df, fee_rate=0.001, initial_balance=100):\n",
        "    \"\"\"\n",
        "    Hold (Buy and Hold) stratejisi backtest fonksiyonu.\n",
        "    Başlangıçta al, hiç satma, en sona kadar tut.\n",
        "    \"\"\"\n",
        "    df = df.copy().reset_index(drop=True)\n",
        "\n",
        "    # İlk alım\n",
        "    entry_price = df.iloc[0]['close']\n",
        "    fee = initial_balance * fee_rate\n",
        "    balance = initial_balance - fee\n",
        "    fee_paid = fee\n",
        "\n",
        "    # En sonda elde edilen değer\n",
        "    final_price = df.iloc[-1]['close']\n",
        "    final_equity = balance * (final_price / entry_price)\n",
        "\n",
        "    # Tüm df için equity sütunu oluşturalım\n",
        "    df['position'] = 1\n",
        "    df['sim_signal'] = 0\n",
        "    df['fee_total'] = fee_paid\n",
        "    df['equity'] = balance * (df['close'] / entry_price)\n",
        "\n",
        "    print(f\"Başlangıç Bakiye: {initial_balance:.2f} USDT\")\n",
        "    print(f\"Final Bakiye: {final_equity:.2f} USDT\")\n",
        "    print(f\"Toplam Fee: {fee_paid:.2f} USDT\")\n",
        "    print(\"Toplam İşlem Sayısı: 1 (al ve tut)\")\n",
        "\n",
        "    return final_equity, fee_paid, df\n"
      ],
      "metadata": {
        "id": "miq4fGL1s6yb"
      },
      "execution_count": null,
      "outputs": []
    },
    {
      "cell_type": "code",
      "source": [
        "final_balance, total_fee, result_df = hold_strategy_backtest(one_week)\n"
      ],
      "metadata": {
        "colab": {
          "base_uri": "https://localhost:8080/"
        },
        "id": "W92ntr4cs79r",
        "outputId": "78ea4339-3d70-4120-a37f-9186fcb7ebe3"
      },
      "execution_count": null,
      "outputs": [
        {
          "output_type": "stream",
          "name": "stdout",
          "text": [
            "Başlangıç Bakiye: 100.00 USDT\n",
            "Final Bakiye: 108.79 USDT\n",
            "Toplam Fee: 0.10 USDT\n",
            "Toplam İşlem Sayısı: 1 (al ve tut)\n"
          ]
        }
      ]
    },
    {
      "cell_type": "code",
      "source": [
        "final_balance, total_fee, result_df = hold_strategy_backtest(five_month)\n"
      ],
      "metadata": {
        "colab": {
          "base_uri": "https://localhost:8080/"
        },
        "id": "FJXwa4k8s-iQ",
        "outputId": "931a82b5-a480-44d9-9183-9463b24bd59c"
      },
      "execution_count": null,
      "outputs": [
        {
          "output_type": "stream",
          "name": "stdout",
          "text": [
            "Başlangıç Bakiye: 100.00 USDT\n",
            "Final Bakiye: 109.42 USDT\n",
            "Toplam Fee: 0.10 USDT\n",
            "Toplam İşlem Sayısı: 1 (al ve tut)\n"
          ]
        }
      ]
    },
    {
      "cell_type": "code",
      "source": [
        "final_balance, total_fee, result_df = hold_strategy_backtest(two_years)\n"
      ],
      "metadata": {
        "id": "Aj7YarV9tAd_",
        "outputId": "aecbd8e3-14ae-4c0b-b8bc-d361917062e6",
        "colab": {
          "base_uri": "https://localhost:8080/"
        }
      },
      "execution_count": null,
      "outputs": [
        {
          "output_type": "stream",
          "name": "stdout",
          "text": [
            "Başlangıç Bakiye: 100.00 USDT\n",
            "Final Bakiye: 373.62 USDT\n",
            "Toplam Fee: 0.10 USDT\n",
            "Toplam İşlem Sayısı: 1 (al ve tut)\n"
          ]
        }
      ]
    }
  ]
}